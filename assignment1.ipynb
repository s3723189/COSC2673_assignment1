{
 "cells": [
  {
   "cell_type": "code",
   "execution_count": 132,
   "id": "frequent-poland",
   "metadata": {},
   "outputs": [],
   "source": [
    "#Import required packages \n",
    "\n",
    "import pandas as pd\n",
    "import matplotlib.pyplot as plt \n",
    "import numpy as np"
   ]
  },
  {
   "cell_type": "code",
   "execution_count": 133,
   "id": "capital-mission",
   "metadata": {},
   "outputs": [],
   "source": [
    "#load dataset"
   ]
  },
  {
   "cell_type": "code",
   "execution_count": 134,
   "id": "sustained-prerequisite",
   "metadata": {},
   "outputs": [],
   "source": [
    "a_dataset = pd.read_csv(\"train_data.csv\")"
   ]
  },
  {
   "cell_type": "code",
   "execution_count": 135,
   "id": "higher-stake",
   "metadata": {},
   "outputs": [],
   "source": [
    "#Print dataset information"
   ]
  },
  {
   "cell_type": "code",
   "execution_count": 136,
   "id": "legendary-recovery",
   "metadata": {},
   "outputs": [
    {
     "data": {
      "text/plain": [
       "array(['Newborn', 'Emergency', 'Elective', 'Urgent'], dtype=object)"
      ]
     },
     "execution_count": 136,
     "metadata": {},
     "output_type": "execute_result"
    }
   ],
   "source": [
    "a_dataset['TypeOfAdmission'].unique()"
   ]
  },
  {
   "cell_type": "code",
   "execution_count": 137,
   "id": "isolated-sheep",
   "metadata": {},
   "outputs": [
    {
     "name": "stdout",
     "output_type": "stream",
     "text": [
      "<class 'pandas.core.frame.DataFrame'>\n",
      "RangeIndex: 59966 entries, 0 to 59965\n",
      "Data columns (total 16 columns):\n",
      " #   Column                        Non-Null Count  Dtype \n",
      "---  ------                        --------------  ----- \n",
      " 0   ID                            59966 non-null  int64 \n",
      " 1   HealthServiceArea             59966 non-null  object\n",
      " 2   Gender                        59966 non-null  object\n",
      " 3   Race                          59966 non-null  object\n",
      " 4   TypeOfAdmission               59966 non-null  object\n",
      " 5   CCSProcedureCode              59966 non-null  int64 \n",
      " 6   APRSeverityOfIllnessCode      59966 non-null  int64 \n",
      " 7   PaymentTypology               59966 non-null  object\n",
      " 8   BirthWeight                   59966 non-null  int64 \n",
      " 9   EmergencyDepartmentIndicator  59966 non-null  object\n",
      " 10  AverageCostInCounty           59966 non-null  int64 \n",
      " 11  AverageChargesInCounty        59966 non-null  int64 \n",
      " 12  AverageCostInFacility         59966 non-null  int64 \n",
      " 13  AverageChargesInFacility      59966 non-null  int64 \n",
      " 14  AverageIncomeInZipCode        59966 non-null  int64 \n",
      " 15  LengthOfStay                  59966 non-null  int64 \n",
      "dtypes: int64(10), object(6)\n",
      "memory usage: 7.3+ MB\n"
     ]
    }
   ],
   "source": [
    "a_dataset.info()"
   ]
  },
  {
   "cell_type": "code",
   "execution_count": 138,
   "id": "micro-hamburg",
   "metadata": {},
   "outputs": [
    {
     "data": {
      "text/plain": [
       "array(['Medicaid', 'Private Health Insurance', 'Blue Cross/Blue Shield',\n",
       "       'Self-Pay', 'Managed Care, Unspecified', 'Miscellaneous/Other',\n",
       "       'Federal/State/Local/VA', 'Medicare', 'Unknown'], dtype=object)"
      ]
     },
     "execution_count": 138,
     "metadata": {},
     "output_type": "execute_result"
    }
   ],
   "source": [
    "a_dataset['PaymentTypology'].unique()"
   ]
  },
  {
   "cell_type": "code",
   "execution_count": 139,
   "id": "gothic-palace",
   "metadata": {},
   "outputs": [],
   "source": [
    "# Remove ID "
   ]
  },
  {
   "cell_type": "code",
   "execution_count": 140,
   "id": "induced-advertising",
   "metadata": {},
   "outputs": [],
   "source": [
    "a_dataset = a_dataset.drop(columns = ['ID'])"
   ]
  },
  {
   "cell_type": "code",
   "execution_count": 141,
   "id": "excessive-making",
   "metadata": {},
   "outputs": [],
   "source": [
    "a_dataset = a_dataset.drop(columns = ['HealthServiceArea'])"
   ]
  },
  {
   "cell_type": "code",
   "execution_count": 142,
   "id": "asian-feature",
   "metadata": {},
   "outputs": [
    {
     "name": "stdout",
     "output_type": "stream",
     "text": [
      "      Gender                    Race TypeOfAdmission  CCSProcedureCode  \\\n",
      "0          F              Other Race         Newborn               228   \n",
      "1          M  Black/African American         Newborn               228   \n",
      "2          M              Other Race         Newborn               220   \n",
      "3          F              Other Race         Newborn                 0   \n",
      "4          F              Other Race         Newborn               228   \n",
      "...      ...                     ...             ...               ...   \n",
      "59961      M  Black/African American         Newborn               115   \n",
      "59962      M                   White         Newborn               115   \n",
      "59963      M                   White         Newborn               115   \n",
      "59964      M                   White         Newborn                -1   \n",
      "59965      F                   White         Newborn               231   \n",
      "\n",
      "       APRSeverityOfIllnessCode           PaymentTypology  BirthWeight  \\\n",
      "0                             1                  Medicaid         3700   \n",
      "1                             1                  Medicaid         2900   \n",
      "2                             1  Private Health Insurance         3200   \n",
      "3                             1  Private Health Insurance         3300   \n",
      "4                             1                  Medicaid         2600   \n",
      "...                         ...                       ...          ...   \n",
      "59961                         1    Blue Cross/Blue Shield         3600   \n",
      "59962                         2    Blue Cross/Blue Shield         3300   \n",
      "59963                         2    Blue Cross/Blue Shield         3400   \n",
      "59964                         2                  Medicaid         3100   \n",
      "59965                         2    Blue Cross/Blue Shield         3900   \n",
      "\n",
      "      EmergencyDepartmentIndicator  AverageCostInCounty  \\\n",
      "0                                N                 2611   \n",
      "1                                N                 3242   \n",
      "2                                N                 3155   \n",
      "3                                N                 3155   \n",
      "4                                N                 2611   \n",
      "...                            ...                  ...   \n",
      "59961                            N                 1826   \n",
      "59962                            N                 1826   \n",
      "59963                            N                 1826   \n",
      "59964                            N                 1826   \n",
      "59965                            N                 1826   \n",
      "\n",
      "       AverageChargesInCounty  AverageCostInFacility  \\\n",
      "0                        9227                   1751   \n",
      "1                        8966                   3338   \n",
      "2                       11381                   4980   \n",
      "3                       11381                   5826   \n",
      "4                        9227                   6000   \n",
      "...                       ...                    ...   \n",
      "59961                    4190                   1551   \n",
      "59962                    4190                   1551   \n",
      "59963                    4190                   1551   \n",
      "59964                    4190                   1551   \n",
      "59965                    4190                   1551   \n",
      "\n",
      "       AverageChargesInFacility  AverageIncomeInZipCode  LengthOfStay  \n",
      "0                          8951                      45             1  \n",
      "1                          6409                      34             1  \n",
      "2                          9323                      45             1  \n",
      "3                         15680                      59             1  \n",
      "4                         14344                      59             1  \n",
      "...                         ...                     ...           ...  \n",
      "59961                      3715                      36             4  \n",
      "59962                      3715                      55             6  \n",
      "59963                      3715                      55             4  \n",
      "59964                      3715                      55             4  \n",
      "59965                      3715                      36             4  \n",
      "\n",
      "[59966 rows x 14 columns]\n"
     ]
    }
   ],
   "source": [
    "print(a_dataset)"
   ]
  },
  {
   "cell_type": "code",
   "execution_count": 143,
   "id": "multiple-liberal",
   "metadata": {},
   "outputs": [],
   "source": [
    "# One-hot encoding, specifically Gender(M, F, U), Race(Black/African American, Multi, Other Race, Unkown, White, Other Race),  TypeOfAdmission(Elective, Emergency, Newborn, Not Available, Trauma, Urgent)\n",
    "# APRSeverityOfIllnessCode(Minor (1), Moderate (2),   Major (3), Extreme (4)), \n",
    "#PaymentTypology('Medicaid', 'Blue Cross/Blue Shield', 'Private Health Insurance', 'Medicare', 'Managed Care, Unspecified', 'Self-Pay', 'Unknown', 'Federal/State/Local/VA', 'Miscellaneous/Other','Department of Corrections')\n",
    "#EmergencyDepartmentIndicator(Y, N) "
   ]
  },
  {
   "cell_type": "code",
   "execution_count": 144,
   "id": "indirect-wonder",
   "metadata": {},
   "outputs": [],
   "source": [
    "from sklearn.preprocessing import OneHotEncoder"
   ]
  },
  {
   "cell_type": "code",
   "execution_count": 145,
   "id": "irish-hospital",
   "metadata": {},
   "outputs": [
    {
     "name": "stdout",
     "output_type": "stream",
     "text": [
      "[[1. 0. 0.]\n",
      " [0. 1. 0.]\n",
      " [0. 1. 0.]\n",
      " ...\n",
      " [0. 1. 0.]\n",
      " [0. 1. 0.]\n",
      " [1. 0. 0.]]\n"
     ]
    }
   ],
   "source": [
    "OneHotEncoder_Gender = OneHotEncoder(handle_unknown ='ignore')\n",
    "OneHotEncoder_Gender.fit(a_dataset[['Gender']])\n",
    "\n",
    "onehot_ = OneHotEncoder_Gender.transform(a_dataset[['Gender']]).toarray()\n",
    "\n",
    "print(onehot_)"
   ]
  },
  {
   "cell_type": "code",
   "execution_count": 146,
   "id": "manual-eight",
   "metadata": {},
   "outputs": [
    {
     "name": "stdout",
     "output_type": "stream",
     "text": [
      "(59966, 3) [array(['F', 'M', 'U'], dtype=object)]\n"
     ]
    }
   ],
   "source": [
    "print(onehot_.shape, OneHotEncoder_Gender.categories_)"
   ]
  },
  {
   "cell_type": "code",
   "execution_count": 147,
   "id": "accessible-habitat",
   "metadata": {},
   "outputs": [],
   "source": [
    "# Begin One hot encoding for 'Gender'"
   ]
  },
  {
   "cell_type": "code",
   "execution_count": 148,
   "id": "spatial-thriller",
   "metadata": {},
   "outputs": [],
   "source": [
    "colname = 'Gender'\n",
    "for i in range(len(OneHotEncoder_Gender.categories_[0])):\n",
    "    a_dataset[colname + '_' + str(OneHotEncoder_Gender.categories_[0][i])] = onehot_[:,i]\n",
    "    \n"
   ]
  },
  {
   "cell_type": "code",
   "execution_count": 149,
   "id": "british-planning",
   "metadata": {},
   "outputs": [
    {
     "data": {
      "text/plain": [
       "(59966, 17)"
      ]
     },
     "execution_count": 149,
     "metadata": {},
     "output_type": "execute_result"
    }
   ],
   "source": [
    "a_dataset.shape"
   ]
  },
  {
   "cell_type": "code",
   "execution_count": 150,
   "id": "successful-collect",
   "metadata": {},
   "outputs": [],
   "source": [
    "a_dataset = a_dataset.drop(columns = ['Gender'])"
   ]
  },
  {
   "cell_type": "code",
   "execution_count": 151,
   "id": "spiritual-monitor",
   "metadata": {},
   "outputs": [
    {
     "data": {
      "text/plain": [
       "(59966, 16)"
      ]
     },
     "execution_count": 151,
     "metadata": {},
     "output_type": "execute_result"
    }
   ],
   "source": [
    "a_dataset.shape"
   ]
  },
  {
   "cell_type": "code",
   "execution_count": 152,
   "id": "disturbed-danish",
   "metadata": {},
   "outputs": [
    {
     "data": {
      "text/plain": [
       "array(['Newborn', 'Emergency', 'Elective', 'Urgent'], dtype=object)"
      ]
     },
     "execution_count": 152,
     "metadata": {},
     "output_type": "execute_result"
    }
   ],
   "source": [
    "a_dataset['TypeOfAdmission'].unique()"
   ]
  },
  {
   "cell_type": "code",
   "execution_count": 153,
   "id": "noble-fossil",
   "metadata": {},
   "outputs": [],
   "source": [
    "## Do every other categorical column"
   ]
  },
  {
   "cell_type": "code",
   "execution_count": 154,
   "id": "terminal-albuquerque",
   "metadata": {},
   "outputs": [],
   "source": [
    "OneHotEncoder_TypeOfAdmission = OneHotEncoder(handle_unknown ='ignore')\n",
    "OneHotEncoder_TypeOfAdmission.fit(a_dataset[['TypeOfAdmission']])\n",
    "\n",
    "onehot_ = OneHotEncoder_TypeOfAdmission.transform(a_dataset[['TypeOfAdmission']]).toarray()\n",
    "\n",
    "colname = 'TypeOfAdmission'\n",
    "for i in range(len(OneHotEncoder_TypeOfAdmission.categories_[0])):\n",
    "    a_dataset[colname + '_' + str(OneHotEncoder_TypeOfAdmission.categories_[0][i])] = onehot_[:,i]\n",
    "    "
   ]
  },
  {
   "cell_type": "code",
   "execution_count": 155,
   "id": "impressed-conditioning",
   "metadata": {},
   "outputs": [
    {
     "name": "stdout",
     "output_type": "stream",
     "text": [
      "(59966, 4) [array(['Elective', 'Emergency', 'Newborn', 'Urgent'], dtype=object)]\n"
     ]
    }
   ],
   "source": [
    "print(onehot_.shape, OneHotEncoder_TypeOfAdmission.categories_)\n"
   ]
  },
  {
   "cell_type": "code",
   "execution_count": 157,
   "id": "italian-element",
   "metadata": {},
   "outputs": [
    {
     "data": {
      "text/html": [
       "<div>\n",
       "<style scoped>\n",
       "    .dataframe tbody tr th:only-of-type {\n",
       "        vertical-align: middle;\n",
       "    }\n",
       "\n",
       "    .dataframe tbody tr th {\n",
       "        vertical-align: top;\n",
       "    }\n",
       "\n",
       "    .dataframe thead th {\n",
       "        text-align: right;\n",
       "    }\n",
       "</style>\n",
       "<table border=\"1\" class=\"dataframe\">\n",
       "  <thead>\n",
       "    <tr style=\"text-align: right;\">\n",
       "      <th></th>\n",
       "      <th>Race</th>\n",
       "      <th>TypeOfAdmission</th>\n",
       "      <th>CCSProcedureCode</th>\n",
       "      <th>APRSeverityOfIllnessCode</th>\n",
       "      <th>PaymentTypology</th>\n",
       "      <th>BirthWeight</th>\n",
       "      <th>EmergencyDepartmentIndicator</th>\n",
       "      <th>AverageCostInCounty</th>\n",
       "      <th>AverageChargesInCounty</th>\n",
       "      <th>AverageCostInFacility</th>\n",
       "      <th>AverageChargesInFacility</th>\n",
       "      <th>AverageIncomeInZipCode</th>\n",
       "      <th>LengthOfStay</th>\n",
       "      <th>Gender_F</th>\n",
       "      <th>Gender_M</th>\n",
       "      <th>Gender_U</th>\n",
       "      <th>TypeOfAdmission_Elective</th>\n",
       "      <th>TypeOfAdmission_Emergency</th>\n",
       "      <th>TypeOfAdmission_Newborn</th>\n",
       "      <th>TypeOfAdmission_Urgent</th>\n",
       "    </tr>\n",
       "  </thead>\n",
       "  <tbody>\n",
       "    <tr>\n",
       "      <th>0</th>\n",
       "      <td>Other Race</td>\n",
       "      <td>Newborn</td>\n",
       "      <td>228</td>\n",
       "      <td>1</td>\n",
       "      <td>Medicaid</td>\n",
       "      <td>3700</td>\n",
       "      <td>N</td>\n",
       "      <td>2611</td>\n",
       "      <td>9227</td>\n",
       "      <td>1751</td>\n",
       "      <td>8951</td>\n",
       "      <td>45</td>\n",
       "      <td>1</td>\n",
       "      <td>1.0</td>\n",
       "      <td>0.0</td>\n",
       "      <td>0.0</td>\n",
       "      <td>0.0</td>\n",
       "      <td>0.0</td>\n",
       "      <td>1.0</td>\n",
       "      <td>0.0</td>\n",
       "    </tr>\n",
       "    <tr>\n",
       "      <th>1</th>\n",
       "      <td>Black/African American</td>\n",
       "      <td>Newborn</td>\n",
       "      <td>228</td>\n",
       "      <td>1</td>\n",
       "      <td>Medicaid</td>\n",
       "      <td>2900</td>\n",
       "      <td>N</td>\n",
       "      <td>3242</td>\n",
       "      <td>8966</td>\n",
       "      <td>3338</td>\n",
       "      <td>6409</td>\n",
       "      <td>34</td>\n",
       "      <td>1</td>\n",
       "      <td>0.0</td>\n",
       "      <td>1.0</td>\n",
       "      <td>0.0</td>\n",
       "      <td>0.0</td>\n",
       "      <td>0.0</td>\n",
       "      <td>1.0</td>\n",
       "      <td>0.0</td>\n",
       "    </tr>\n",
       "    <tr>\n",
       "      <th>2</th>\n",
       "      <td>Other Race</td>\n",
       "      <td>Newborn</td>\n",
       "      <td>220</td>\n",
       "      <td>1</td>\n",
       "      <td>Private Health Insurance</td>\n",
       "      <td>3200</td>\n",
       "      <td>N</td>\n",
       "      <td>3155</td>\n",
       "      <td>11381</td>\n",
       "      <td>4980</td>\n",
       "      <td>9323</td>\n",
       "      <td>45</td>\n",
       "      <td>1</td>\n",
       "      <td>0.0</td>\n",
       "      <td>1.0</td>\n",
       "      <td>0.0</td>\n",
       "      <td>0.0</td>\n",
       "      <td>0.0</td>\n",
       "      <td>1.0</td>\n",
       "      <td>0.0</td>\n",
       "    </tr>\n",
       "    <tr>\n",
       "      <th>3</th>\n",
       "      <td>Other Race</td>\n",
       "      <td>Newborn</td>\n",
       "      <td>0</td>\n",
       "      <td>1</td>\n",
       "      <td>Private Health Insurance</td>\n",
       "      <td>3300</td>\n",
       "      <td>N</td>\n",
       "      <td>3155</td>\n",
       "      <td>11381</td>\n",
       "      <td>5826</td>\n",
       "      <td>15680</td>\n",
       "      <td>59</td>\n",
       "      <td>1</td>\n",
       "      <td>1.0</td>\n",
       "      <td>0.0</td>\n",
       "      <td>0.0</td>\n",
       "      <td>0.0</td>\n",
       "      <td>0.0</td>\n",
       "      <td>1.0</td>\n",
       "      <td>0.0</td>\n",
       "    </tr>\n",
       "    <tr>\n",
       "      <th>4</th>\n",
       "      <td>Other Race</td>\n",
       "      <td>Newborn</td>\n",
       "      <td>228</td>\n",
       "      <td>1</td>\n",
       "      <td>Medicaid</td>\n",
       "      <td>2600</td>\n",
       "      <td>N</td>\n",
       "      <td>2611</td>\n",
       "      <td>9227</td>\n",
       "      <td>6000</td>\n",
       "      <td>14344</td>\n",
       "      <td>59</td>\n",
       "      <td>1</td>\n",
       "      <td>1.0</td>\n",
       "      <td>0.0</td>\n",
       "      <td>0.0</td>\n",
       "      <td>0.0</td>\n",
       "      <td>0.0</td>\n",
       "      <td>1.0</td>\n",
       "      <td>0.0</td>\n",
       "    </tr>\n",
       "    <tr>\n",
       "      <th>...</th>\n",
       "      <td>...</td>\n",
       "      <td>...</td>\n",
       "      <td>...</td>\n",
       "      <td>...</td>\n",
       "      <td>...</td>\n",
       "      <td>...</td>\n",
       "      <td>...</td>\n",
       "      <td>...</td>\n",
       "      <td>...</td>\n",
       "      <td>...</td>\n",
       "      <td>...</td>\n",
       "      <td>...</td>\n",
       "      <td>...</td>\n",
       "      <td>...</td>\n",
       "      <td>...</td>\n",
       "      <td>...</td>\n",
       "      <td>...</td>\n",
       "      <td>...</td>\n",
       "      <td>...</td>\n",
       "      <td>...</td>\n",
       "    </tr>\n",
       "    <tr>\n",
       "      <th>59961</th>\n",
       "      <td>Black/African American</td>\n",
       "      <td>Newborn</td>\n",
       "      <td>115</td>\n",
       "      <td>1</td>\n",
       "      <td>Blue Cross/Blue Shield</td>\n",
       "      <td>3600</td>\n",
       "      <td>N</td>\n",
       "      <td>1826</td>\n",
       "      <td>4190</td>\n",
       "      <td>1551</td>\n",
       "      <td>3715</td>\n",
       "      <td>36</td>\n",
       "      <td>4</td>\n",
       "      <td>0.0</td>\n",
       "      <td>1.0</td>\n",
       "      <td>0.0</td>\n",
       "      <td>0.0</td>\n",
       "      <td>0.0</td>\n",
       "      <td>1.0</td>\n",
       "      <td>0.0</td>\n",
       "    </tr>\n",
       "    <tr>\n",
       "      <th>59962</th>\n",
       "      <td>White</td>\n",
       "      <td>Newborn</td>\n",
       "      <td>115</td>\n",
       "      <td>2</td>\n",
       "      <td>Blue Cross/Blue Shield</td>\n",
       "      <td>3300</td>\n",
       "      <td>N</td>\n",
       "      <td>1826</td>\n",
       "      <td>4190</td>\n",
       "      <td>1551</td>\n",
       "      <td>3715</td>\n",
       "      <td>55</td>\n",
       "      <td>6</td>\n",
       "      <td>0.0</td>\n",
       "      <td>1.0</td>\n",
       "      <td>0.0</td>\n",
       "      <td>0.0</td>\n",
       "      <td>0.0</td>\n",
       "      <td>1.0</td>\n",
       "      <td>0.0</td>\n",
       "    </tr>\n",
       "    <tr>\n",
       "      <th>59963</th>\n",
       "      <td>White</td>\n",
       "      <td>Newborn</td>\n",
       "      <td>115</td>\n",
       "      <td>2</td>\n",
       "      <td>Blue Cross/Blue Shield</td>\n",
       "      <td>3400</td>\n",
       "      <td>N</td>\n",
       "      <td>1826</td>\n",
       "      <td>4190</td>\n",
       "      <td>1551</td>\n",
       "      <td>3715</td>\n",
       "      <td>55</td>\n",
       "      <td>4</td>\n",
       "      <td>0.0</td>\n",
       "      <td>1.0</td>\n",
       "      <td>0.0</td>\n",
       "      <td>0.0</td>\n",
       "      <td>0.0</td>\n",
       "      <td>1.0</td>\n",
       "      <td>0.0</td>\n",
       "    </tr>\n",
       "    <tr>\n",
       "      <th>59964</th>\n",
       "      <td>White</td>\n",
       "      <td>Newborn</td>\n",
       "      <td>-1</td>\n",
       "      <td>2</td>\n",
       "      <td>Medicaid</td>\n",
       "      <td>3100</td>\n",
       "      <td>N</td>\n",
       "      <td>1826</td>\n",
       "      <td>4190</td>\n",
       "      <td>1551</td>\n",
       "      <td>3715</td>\n",
       "      <td>55</td>\n",
       "      <td>4</td>\n",
       "      <td>0.0</td>\n",
       "      <td>1.0</td>\n",
       "      <td>0.0</td>\n",
       "      <td>0.0</td>\n",
       "      <td>0.0</td>\n",
       "      <td>1.0</td>\n",
       "      <td>0.0</td>\n",
       "    </tr>\n",
       "    <tr>\n",
       "      <th>59965</th>\n",
       "      <td>White</td>\n",
       "      <td>Newborn</td>\n",
       "      <td>231</td>\n",
       "      <td>2</td>\n",
       "      <td>Blue Cross/Blue Shield</td>\n",
       "      <td>3900</td>\n",
       "      <td>N</td>\n",
       "      <td>1826</td>\n",
       "      <td>4190</td>\n",
       "      <td>1551</td>\n",
       "      <td>3715</td>\n",
       "      <td>36</td>\n",
       "      <td>4</td>\n",
       "      <td>1.0</td>\n",
       "      <td>0.0</td>\n",
       "      <td>0.0</td>\n",
       "      <td>0.0</td>\n",
       "      <td>0.0</td>\n",
       "      <td>1.0</td>\n",
       "      <td>0.0</td>\n",
       "    </tr>\n",
       "  </tbody>\n",
       "</table>\n",
       "<p>59966 rows × 20 columns</p>\n",
       "</div>"
      ],
      "text/plain": [
       "                         Race TypeOfAdmission  CCSProcedureCode  \\\n",
       "0                  Other Race         Newborn               228   \n",
       "1      Black/African American         Newborn               228   \n",
       "2                  Other Race         Newborn               220   \n",
       "3                  Other Race         Newborn                 0   \n",
       "4                  Other Race         Newborn               228   \n",
       "...                       ...             ...               ...   \n",
       "59961  Black/African American         Newborn               115   \n",
       "59962                   White         Newborn               115   \n",
       "59963                   White         Newborn               115   \n",
       "59964                   White         Newborn                -1   \n",
       "59965                   White         Newborn               231   \n",
       "\n",
       "       APRSeverityOfIllnessCode           PaymentTypology  BirthWeight  \\\n",
       "0                             1                  Medicaid         3700   \n",
       "1                             1                  Medicaid         2900   \n",
       "2                             1  Private Health Insurance         3200   \n",
       "3                             1  Private Health Insurance         3300   \n",
       "4                             1                  Medicaid         2600   \n",
       "...                         ...                       ...          ...   \n",
       "59961                         1    Blue Cross/Blue Shield         3600   \n",
       "59962                         2    Blue Cross/Blue Shield         3300   \n",
       "59963                         2    Blue Cross/Blue Shield         3400   \n",
       "59964                         2                  Medicaid         3100   \n",
       "59965                         2    Blue Cross/Blue Shield         3900   \n",
       "\n",
       "      EmergencyDepartmentIndicator  AverageCostInCounty  \\\n",
       "0                                N                 2611   \n",
       "1                                N                 3242   \n",
       "2                                N                 3155   \n",
       "3                                N                 3155   \n",
       "4                                N                 2611   \n",
       "...                            ...                  ...   \n",
       "59961                            N                 1826   \n",
       "59962                            N                 1826   \n",
       "59963                            N                 1826   \n",
       "59964                            N                 1826   \n",
       "59965                            N                 1826   \n",
       "\n",
       "       AverageChargesInCounty  AverageCostInFacility  \\\n",
       "0                        9227                   1751   \n",
       "1                        8966                   3338   \n",
       "2                       11381                   4980   \n",
       "3                       11381                   5826   \n",
       "4                        9227                   6000   \n",
       "...                       ...                    ...   \n",
       "59961                    4190                   1551   \n",
       "59962                    4190                   1551   \n",
       "59963                    4190                   1551   \n",
       "59964                    4190                   1551   \n",
       "59965                    4190                   1551   \n",
       "\n",
       "       AverageChargesInFacility  AverageIncomeInZipCode  LengthOfStay  \\\n",
       "0                          8951                      45             1   \n",
       "1                          6409                      34             1   \n",
       "2                          9323                      45             1   \n",
       "3                         15680                      59             1   \n",
       "4                         14344                      59             1   \n",
       "...                         ...                     ...           ...   \n",
       "59961                      3715                      36             4   \n",
       "59962                      3715                      55             6   \n",
       "59963                      3715                      55             4   \n",
       "59964                      3715                      55             4   \n",
       "59965                      3715                      36             4   \n",
       "\n",
       "       Gender_F  Gender_M  Gender_U  TypeOfAdmission_Elective  \\\n",
       "0           1.0       0.0       0.0                       0.0   \n",
       "1           0.0       1.0       0.0                       0.0   \n",
       "2           0.0       1.0       0.0                       0.0   \n",
       "3           1.0       0.0       0.0                       0.0   \n",
       "4           1.0       0.0       0.0                       0.0   \n",
       "...         ...       ...       ...                       ...   \n",
       "59961       0.0       1.0       0.0                       0.0   \n",
       "59962       0.0       1.0       0.0                       0.0   \n",
       "59963       0.0       1.0       0.0                       0.0   \n",
       "59964       0.0       1.0       0.0                       0.0   \n",
       "59965       1.0       0.0       0.0                       0.0   \n",
       "\n",
       "       TypeOfAdmission_Emergency  TypeOfAdmission_Newborn  \\\n",
       "0                            0.0                      1.0   \n",
       "1                            0.0                      1.0   \n",
       "2                            0.0                      1.0   \n",
       "3                            0.0                      1.0   \n",
       "4                            0.0                      1.0   \n",
       "...                          ...                      ...   \n",
       "59961                        0.0                      1.0   \n",
       "59962                        0.0                      1.0   \n",
       "59963                        0.0                      1.0   \n",
       "59964                        0.0                      1.0   \n",
       "59965                        0.0                      1.0   \n",
       "\n",
       "       TypeOfAdmission_Urgent  \n",
       "0                         0.0  \n",
       "1                         0.0  \n",
       "2                         0.0  \n",
       "3                         0.0  \n",
       "4                         0.0  \n",
       "...                       ...  \n",
       "59961                     0.0  \n",
       "59962                     0.0  \n",
       "59963                     0.0  \n",
       "59964                     0.0  \n",
       "59965                     0.0  \n",
       "\n",
       "[59966 rows x 20 columns]"
      ]
     },
     "execution_count": 157,
     "metadata": {},
     "output_type": "execute_result"
    }
   ],
   "source": [
    "a_dataset"
   ]
  },
  {
   "cell_type": "code",
   "execution_count": null,
   "id": "pediatric-pendant",
   "metadata": {},
   "outputs": [],
   "source": []
  }
 ],
 "metadata": {
  "kernelspec": {
   "display_name": "conda_python3",
   "language": "python",
   "name": "conda_python3"
  },
  "language_info": {
   "codemirror_mode": {
    "name": "ipython",
    "version": 3
   },
   "file_extension": ".py",
   "mimetype": "text/x-python",
   "name": "python",
   "nbconvert_exporter": "python",
   "pygments_lexer": "ipython3",
   "version": "3.6.13"
  }
 },
 "nbformat": 4,
 "nbformat_minor": 5
}
