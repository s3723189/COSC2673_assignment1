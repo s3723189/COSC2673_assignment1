{
 "cells": [
  {
   "cell_type": "code",
   "execution_count": 78,
   "id": "velvet-charge",
   "metadata": {},
   "outputs": [],
   "source": [
    "#Import required packages \n",
    "\n",
    "import pandas as pd\n",
    "import matplotlib.pyplot as plt \n",
    "import numpy as np\n",
    "import seaborn as sns\n"
   ]
  },
  {
   "cell_type": "code",
   "execution_count": 79,
   "id": "qualified-lobby",
   "metadata": {},
   "outputs": [],
   "source": [
    "#load dataset"
   ]
  },
  {
   "cell_type": "code",
   "execution_count": 80,
   "id": "nutritional-brunei",
   "metadata": {},
   "outputs": [],
   "source": [
    "a_dataset = pd.read_csv(\"train_data.csv\")\n",
    "test_dataset = pd.read_csv(\"test_data.csv\")"
   ]
  },
  {
   "cell_type": "code",
   "execution_count": 81,
   "id": "provincial-batch",
   "metadata": {},
   "outputs": [
    {
     "data": {
      "text/plain": [
       "array([[ 1,  2,  3, 24, 33],\n",
       "       [ 4,  5,  6, 55, 56]])"
      ]
     },
     "execution_count": 81,
     "metadata": {},
     "output_type": "execute_result"
    }
   ],
   "source": [
    "arr = np.array([[1, 2, 3], [4, 5, 6]])\n",
    "arr2 = np.array([[ 24, 33], [55, 56]])\n",
    "\n",
    "np.concatenate([arr, arr2], axis = 1)\n",
    "\n"
   ]
  },
  {
   "cell_type": "code",
   "execution_count": 82,
   "id": "figured-ranch",
   "metadata": {},
   "outputs": [],
   "source": [
    "#Print dataset information"
   ]
  },
  {
   "cell_type": "code",
   "execution_count": 83,
   "id": "based-trinidad",
   "metadata": {},
   "outputs": [
    {
     "data": {
      "text/plain": [
       "array(['Newborn', 'Emergency', 'Elective', 'Urgent'], dtype=object)"
      ]
     },
     "execution_count": 83,
     "metadata": {},
     "output_type": "execute_result"
    }
   ],
   "source": [
    "a_dataset['TypeOfAdmission'].unique()"
   ]
  },
  {
   "cell_type": "markdown",
   "id": "judicial-mounting",
   "metadata": {},
   "source": [
    "# EDA\n",
    "## Excluding columns\n",
    "Look at the data below and the provided text file outlining the data value for each column\n",
    "The first two columns ID, HealthServiceArea provide no real use in our dataframe. \n",
    "## Onehot encoding \n",
    "Looking at the various columns, there are various categorical values such as Gender, Race, TypeOfAdmission, CCSProcedureCode,APRSeverityOfIllnessCode, PaymentTypology and EmergencyDepartmentIndicator.\n",
    "\n",
    "Looking at these columns further  all are able to one hot encoded except APRSeverityOfIllness Code as these can be considered ordinal from 1 (Minor) to 4 (Extreme)\n",
    "## Logistic Regression\n",
    "As we are trying to predict two outcomes ie. binary, either 0 or 1 logistic regression is the most appropriate approach for this model. Linear regression does not make sense as that approach is more so for predicting continuous outcomes.  \n",
    "## Decision Trees\n",
    "For this assignment, Decision trees are also a viable option, however it is very difficult to choose from Logistic Regression and Decision Trees. In order to fully decide on which approach to use as to clearly see which approach is superior, one must try both models then attempt to cross-validate. So for this assignment the main approach will be Logistic Regression"
   ]
  },
  {
   "cell_type": "code",
   "execution_count": 84,
   "id": "sexual-movement",
   "metadata": {},
   "outputs": [
    {
     "name": "stdout",
     "output_type": "stream",
     "text": [
      "          ID HealthServiceArea Gender                    Race TypeOfAdmission  \\\n",
      "0          1     New York City      F              Other Race         Newborn   \n",
      "1          2     New York City      M  Black/African American         Newborn   \n",
      "2          3     New York City      M              Other Race         Newborn   \n",
      "3          4     New York City      F              Other Race         Newborn   \n",
      "4          5     New York City      F              Other Race         Newborn   \n",
      "...      ...               ...    ...                     ...             ...   \n",
      "59961  59962        Western NY      M  Black/African American         Newborn   \n",
      "59962  59963        Western NY      M                   White         Newborn   \n",
      "59963  59964        Western NY      M                   White         Newborn   \n",
      "59964  59965        Western NY      M                   White         Newborn   \n",
      "59965  59966        Western NY      F                   White         Newborn   \n",
      "\n",
      "       CCSProcedureCode  APRSeverityOfIllnessCode           PaymentTypology  \\\n",
      "0                   228                         1                  Medicaid   \n",
      "1                   228                         1                  Medicaid   \n",
      "2                   220                         1  Private Health Insurance   \n",
      "3                     0                         1  Private Health Insurance   \n",
      "4                   228                         1                  Medicaid   \n",
      "...                 ...                       ...                       ...   \n",
      "59961               115                         1    Blue Cross/Blue Shield   \n",
      "59962               115                         2    Blue Cross/Blue Shield   \n",
      "59963               115                         2    Blue Cross/Blue Shield   \n",
      "59964                -1                         2                  Medicaid   \n",
      "59965               231                         2    Blue Cross/Blue Shield   \n",
      "\n",
      "       BirthWeight EmergencyDepartmentIndicator  AverageCostInCounty  \\\n",
      "0             3700                            N                 2611   \n",
      "1             2900                            N                 3242   \n",
      "2             3200                            N                 3155   \n",
      "3             3300                            N                 3155   \n",
      "4             2600                            N                 2611   \n",
      "...            ...                          ...                  ...   \n",
      "59961         3600                            N                 1826   \n",
      "59962         3300                            N                 1826   \n",
      "59963         3400                            N                 1826   \n",
      "59964         3100                            N                 1826   \n",
      "59965         3900                            N                 1826   \n",
      "\n",
      "       AverageChargesInCounty  AverageCostInFacility  \\\n",
      "0                        9227                   1751   \n",
      "1                        8966                   3338   \n",
      "2                       11381                   4980   \n",
      "3                       11381                   5826   \n",
      "4                        9227                   6000   \n",
      "...                       ...                    ...   \n",
      "59961                    4190                   1551   \n",
      "59962                    4190                   1551   \n",
      "59963                    4190                   1551   \n",
      "59964                    4190                   1551   \n",
      "59965                    4190                   1551   \n",
      "\n",
      "       AverageChargesInFacility  AverageIncomeInZipCode  LengthOfStay  \n",
      "0                          8951                      45             1  \n",
      "1                          6409                      34             1  \n",
      "2                          9323                      45             1  \n",
      "3                         15680                      59             1  \n",
      "4                         14344                      59             1  \n",
      "...                         ...                     ...           ...  \n",
      "59961                      3715                      36             4  \n",
      "59962                      3715                      55             6  \n",
      "59963                      3715                      55             4  \n",
      "59964                      3715                      55             4  \n",
      "59965                      3715                      36             4  \n",
      "\n",
      "[59966 rows x 16 columns]\n"
     ]
    }
   ],
   "source": [
    "print(a_dataset)"
   ]
  },
  {
   "cell_type": "code",
   "execution_count": 85,
   "id": "ambient-miniature",
   "metadata": {},
   "outputs": [
    {
     "data": {
      "image/png": "[encoded data removed]",
      "text/plain": [
       "<Figure size 792x648 with 2 Axes>"
      ]
     },
     "metadata": {
      "needs_background": "light"
     },
     "output_type": "display_data"
    }
   ],
   "source": [
    "f, ax = plt.subplots(figsize=(11, 9))\n",
    "corr = a_dataset.corr()\n",
    "ax = sns.heatmap(\n",
    "    corr, \n",
    "    vmin=-1, vmax=1, center=0,\n",
    "    cmap=sns.diverging_palette(20, 220, n=200),\n",
    "    square=True\n",
    ")\n",
    "ax.set_xticklabels(\n",
    "    ax.get_xticklabels(),\n",
    "    rotation=90,\n",
    "    horizontalalignment='right'\n",
    ");"
   ]
  },
  {
   "cell_type": "markdown",
   "id": "heavy-metadata",
   "metadata": {},
   "source": [
    "#### Looking at the correlation matrix above we can already somewhat predict that APRSSeverity illness code has correlation  with Length of stay (around 0.30-0.40)\n",
    "#### This could be the most influential value when it comes to the predicted outcome from our model detecting if LengthofStay is 0 or 1 \n",
    "#### As expected Columns AverageCostInCounty, AverageChargeInCounty, AverageChargesInFacility, AverageIncomeInZipCode all have correlation with one another"
   ]
  },
  {
   "cell_type": "markdown",
   "id": "raising-causing",
   "metadata": {},
   "source": [
    " Remove ID "
   ]
  },
  {
   "cell_type": "code",
   "execution_count": 86,
   "id": "sudden-departure",
   "metadata": {},
   "outputs": [],
   "source": [
    "a_dataset = a_dataset.drop(columns = ['ID'])\n",
    "test_dataset = test_dataset.drop(columns = ['ID'])"
   ]
  },
  {
   "cell_type": "code",
   "execution_count": 87,
   "id": "mobile-actress",
   "metadata": {},
   "outputs": [],
   "source": [
    "a_dataset = a_dataset.drop(columns = ['HealthServiceArea'])\n",
    "test_dataset = test_dataset.drop(columns = ['HealthServiceArea'])"
   ]
  },
  {
   "cell_type": "code",
   "execution_count": 88,
   "id": "vanilla-renaissance",
   "metadata": {},
   "outputs": [],
   "source": [
    "# One-hot encoding, specifically Gender(M, F, U), Race(Black/African American, Multi, Other Race, Unkown, White, Other Race),  TypeOfAdmission(Elective, Emergency, Newborn, Not Available, Trauma, Urgent)\n",
    "# APRSeverityOfIllnessCode(Minor (1), Moderate (2),   Major (3), Extreme (4)), \n",
    "#PaymentTypology('Medicaid', 'Blue Cross/Blue Shield', 'Private Health Insurance', 'Medicare', 'Managed Care, Unspecified', 'Self-Pay', 'Unknown', 'Federal/State/Local/VA', 'Miscellaneous/Other','Department of Corrections')\n",
    "#EmergencyDepartmentIndicator(Y, N) "
   ]
  },
  {
   "cell_type": "markdown",
   "id": "alpine-disposal",
   "metadata": {},
   "source": [
    "#### We will now Onehot encode all the non-ordinal categorical data \n",
    "\n",
    "##### Looking at the provided read me there are 6 Columns with categorical data with more that 2 values \n",
    "##### Examing further, we can narrow down that 5 of these Columns are considered \"nominal\", these are 'Gender', 'Race', 'TypeOfAdmission', 'CCSProcedureCode', 'PaymentTypology'\n",
    "##### We will not OneHotEncode 'APRSeverityOfIllnessCode' as this can be considered Ordinal ie. 1 is considered Minor to 4 which is considered extreme \n"
   ]
  },
  {
   "cell_type": "code",
   "execution_count": 89,
   "id": "endless-clinton",
   "metadata": {},
   "outputs": [],
   "source": [
    "from sklearn.preprocessing import OneHotEncoder"
   ]
  },
  {
   "cell_type": "code",
   "execution_count": 90,
   "id": "blank-identifier",
   "metadata": {},
   "outputs": [
    {
     "name": "stdout",
     "output_type": "stream",
     "text": [
      "[[1. 0. 0.]\n",
      " [1. 0. 0.]\n",
      " [0. 1. 0.]\n",
      " ...\n",
      " [0. 1. 0.]\n",
      " [0. 1. 0.]\n",
      " [0. 1. 0.]]\n"
     ]
    }
   ],
   "source": [
    "OneHotEncoder_Gender = OneHotEncoder(handle_unknown ='ignore')\n",
    "OneHotEncoder_Gender.fit(a_dataset[['Gender']])\n",
    "\n",
    "test_OneHotEncoder_Gender = OneHotEncoder(handle_unknown ='ignore')\n",
    "test_OneHotEncoder_Gender.fit(test_dataset[['Gender']])\n",
    "\n",
    "onehot_ = OneHotEncoder_Gender.transform(a_dataset[['Gender']]).toarray()\n",
    "test_onehot_ = test_OneHotEncoder_Gender.transform(test_dataset[['Gender']]).toarray()\n",
    "print(test_onehot_)"
   ]
  },
  {
   "cell_type": "code",
   "execution_count": 91,
   "id": "american-composer",
   "metadata": {},
   "outputs": [
    {
     "name": "stdout",
     "output_type": "stream",
     "text": [
      "(59966, 3) [array(['F', 'M', 'U'], dtype=object)]\n"
     ]
    }
   ],
   "source": [
    "print(onehot_.shape, OneHotEncoder_Gender.categories_)"
   ]
  },
  {
   "cell_type": "code",
   "execution_count": 92,
   "id": "weighted-conditions",
   "metadata": {},
   "outputs": [],
   "source": [
    "# Begin One hot encoding for 'Gender'"
   ]
  },
  {
   "cell_type": "code",
   "execution_count": 93,
   "id": "satisfactory-overhead",
   "metadata": {},
   "outputs": [],
   "source": [
    "colname = 'Gender'\n",
    "for i in range(len(OneHotEncoder_Gender.categories_[0])):\n",
    "    a_dataset[colname + '_' + str(OneHotEncoder_Gender.categories_[0][i])] = onehot_[:,i]\n",
    "    \n",
    "for i in range(len(test_OneHotEncoder_Gender.categories_[0])):\n",
    "    test_dataset[colname + '_' + str(test_OneHotEncoder_Gender.categories_[0][i])] = test_onehot_[:,i]"
   ]
  },
  {
   "cell_type": "code",
   "execution_count": 94,
   "id": "charitable-bristol",
   "metadata": {},
   "outputs": [
    {
     "data": {
      "text/html": [
       "<div>\n",
       "<style scoped>\n",
       "    .dataframe tbody tr th:only-of-type {\n",
       "        vertical-align: middle;\n",
       "    }\n",
       "\n",
       "    .dataframe tbody tr th {\n",
       "        vertical-align: top;\n",
       "    }\n",
       "\n",
       "    .dataframe thead th {\n",
       "        text-align: right;\n",
       "    }\n",
       "</style>\n",
       "<table border=\"1\" class=\"dataframe\">\n",
       "  <thead>\n",
       "    <tr style=\"text-align: right;\">\n",
       "      <th></th>\n",
       "      <th>Gender</th>\n",
       "      <th>Race</th>\n",
       "      <th>TypeOfAdmission</th>\n",
       "      <th>CCSProcedureCode</th>\n",
       "      <th>APRSeverityOfIllnessCode</th>\n",
       "      <th>PaymentTypology</th>\n",
       "      <th>BirthWeight</th>\n",
       "      <th>EmergencyDepartmentIndicator</th>\n",
       "      <th>AverageCostInCounty</th>\n",
       "      <th>AverageChargesInCounty</th>\n",
       "      <th>AverageCostInFacility</th>\n",
       "      <th>AverageChargesInFacility</th>\n",
       "      <th>AverageIncomeInZipCode</th>\n",
       "      <th>LengthOfStay</th>\n",
       "      <th>Gender_F</th>\n",
       "      <th>Gender_M</th>\n",
       "      <th>Gender_U</th>\n",
       "    </tr>\n",
       "  </thead>\n",
       "  <tbody>\n",
       "    <tr>\n",
       "      <th>0</th>\n",
       "      <td>F</td>\n",
       "      <td>Other Race</td>\n",
       "      <td>Newborn</td>\n",
       "      <td>228</td>\n",
       "      <td>1</td>\n",
       "      <td>Medicaid</td>\n",
       "      <td>3700</td>\n",
       "      <td>N</td>\n",
       "      <td>2611</td>\n",
       "      <td>9227</td>\n",
       "      <td>1751</td>\n",
       "      <td>8951</td>\n",
       "      <td>45</td>\n",
       "      <td>1</td>\n",
       "      <td>1.0</td>\n",
       "      <td>0.0</td>\n",
       "      <td>0.0</td>\n",
       "    </tr>\n",
       "    <tr>\n",
       "      <th>1</th>\n",
       "      <td>M</td>\n",
       "      <td>Black/African American</td>\n",
       "      <td>Newborn</td>\n",
       "      <td>228</td>\n",
       "      <td>1</td>\n",
       "      <td>Medicaid</td>\n",
       "      <td>2900</td>\n",
       "      <td>N</td>\n",
       "      <td>3242</td>\n",
       "      <td>8966</td>\n",
       "      <td>3338</td>\n",
       "      <td>6409</td>\n",
       "      <td>34</td>\n",
       "      <td>1</td>\n",
       "      <td>0.0</td>\n",
       "      <td>1.0</td>\n",
       "      <td>0.0</td>\n",
       "    </tr>\n",
       "    <tr>\n",
       "      <th>2</th>\n",
       "      <td>M</td>\n",
       "      <td>Other Race</td>\n",
       "      <td>Newborn</td>\n",
       "      <td>220</td>\n",
       "      <td>1</td>\n",
       "      <td>Private Health Insurance</td>\n",
       "      <td>3200</td>\n",
       "      <td>N</td>\n",
       "      <td>3155</td>\n",
       "      <td>11381</td>\n",
       "      <td>4980</td>\n",
       "      <td>9323</td>\n",
       "      <td>45</td>\n",
       "      <td>1</td>\n",
       "      <td>0.0</td>\n",
       "      <td>1.0</td>\n",
       "      <td>0.0</td>\n",
       "    </tr>\n",
       "    <tr>\n",
       "      <th>3</th>\n",
       "      <td>F</td>\n",
       "      <td>Other Race</td>\n",
       "      <td>Newborn</td>\n",
       "      <td>0</td>\n",
       "      <td>1</td>\n",
       "      <td>Private Health Insurance</td>\n",
       "      <td>3300</td>\n",
       "      <td>N</td>\n",
       "      <td>3155</td>\n",
       "      <td>11381</td>\n",
       "      <td>5826</td>\n",
       "      <td>15680</td>\n",
       "      <td>59</td>\n",
       "      <td>1</td>\n",
       "      <td>1.0</td>\n",
       "      <td>0.0</td>\n",
       "      <td>0.0</td>\n",
       "    </tr>\n",
       "    <tr>\n",
       "      <th>4</th>\n",
       "      <td>F</td>\n",
       "      <td>Other Race</td>\n",
       "      <td>Newborn</td>\n",
       "      <td>228</td>\n",
       "      <td>1</td>\n",
       "      <td>Medicaid</td>\n",
       "      <td>2600</td>\n",
       "      <td>N</td>\n",
       "      <td>2611</td>\n",
       "      <td>9227</td>\n",
       "      <td>6000</td>\n",
       "      <td>14344</td>\n",
       "      <td>59</td>\n",
       "      <td>1</td>\n",
       "      <td>1.0</td>\n",
       "      <td>0.0</td>\n",
       "      <td>0.0</td>\n",
       "    </tr>\n",
       "  </tbody>\n",
       "</table>\n",
       "</div>"
      ],
      "text/plain": [
       "  Gender                    Race TypeOfAdmission  CCSProcedureCode  \\\n",
       "0      F              Other Race         Newborn               228   \n",
       "1      M  Black/African American         Newborn               228   \n",
       "2      M              Other Race         Newborn               220   \n",
       "3      F              Other Race         Newborn                 0   \n",
       "4      F              Other Race         Newborn               228   \n",
       "\n",
       "   APRSeverityOfIllnessCode           PaymentTypology  BirthWeight  \\\n",
       "0                         1                  Medicaid         3700   \n",
       "1                         1                  Medicaid         2900   \n",
       "2                         1  Private Health Insurance         3200   \n",
       "3                         1  Private Health Insurance         3300   \n",
       "4                         1                  Medicaid         2600   \n",
       "\n",
       "  EmergencyDepartmentIndicator  AverageCostInCounty  AverageChargesInCounty  \\\n",
       "0                            N                 2611                    9227   \n",
       "1                            N                 3242                    8966   \n",
       "2                            N                 3155                   11381   \n",
       "3                            N                 3155                   11381   \n",
       "4                            N                 2611                    9227   \n",
       "\n",
       "   AverageCostInFacility  AverageChargesInFacility  AverageIncomeInZipCode  \\\n",
       "0                   1751                      8951                      45   \n",
       "1                   3338                      6409                      34   \n",
       "2                   4980                      9323                      45   \n",
       "3                   5826                     15680                      59   \n",
       "4                   6000                     14344                      59   \n",
       "\n",
       "   LengthOfStay  Gender_F  Gender_M  Gender_U  \n",
       "0             1       1.0       0.0       0.0  \n",
       "1             1       0.0       1.0       0.0  \n",
       "2             1       0.0       1.0       0.0  \n",
       "3             1       1.0       0.0       0.0  \n",
       "4             1       1.0       0.0       0.0  "
      ]
     },
     "execution_count": 94,
     "metadata": {},
     "output_type": "execute_result"
    }
   ],
   "source": [
    "\n",
    "a_dataset.head()"
   ]
  },
  {
   "cell_type": "code",
   "execution_count": 95,
   "id": "ordinary-crack",
   "metadata": {},
   "outputs": [],
   "source": [
    "a_dataset = a_dataset.drop(columns = ['Gender'])\n",
    "test_dataset = test_dataset.drop(columns = ['Gender'])"
   ]
  },
  {
   "cell_type": "code",
   "execution_count": 96,
   "id": "major-layout",
   "metadata": {},
   "outputs": [
    {
     "data": {
      "text/plain": [
       "array(['Newborn', 'Emergency', 'Elective', 'Urgent'], dtype=object)"
      ]
     },
     "execution_count": 96,
     "metadata": {},
     "output_type": "execute_result"
    }
   ],
   "source": [
    "a_dataset['TypeOfAdmission'].unique()"
   ]
  },
  {
   "cell_type": "code",
   "execution_count": 97,
   "id": "renewable-northeast",
   "metadata": {},
   "outputs": [],
   "source": [
    "## Do every other categorical column"
   ]
  },
  {
   "cell_type": "code",
   "execution_count": 98,
   "id": "olympic-committee",
   "metadata": {},
   "outputs": [],
   "source": [
    "OneHotEncoder_TypeOfAdmission = OneHotEncoder(handle_unknown ='ignore')\n",
    "OneHotEncoder_TypeOfAdmission.fit(a_dataset[['TypeOfAdmission']])\n",
    "\n",
    "test_OneHotEncoder_TypeOfAdmission = OneHotEncoder(handle_unknown ='ignore')\n",
    "test_OneHotEncoder_TypeOfAdmission.fit(test_dataset[['TypeOfAdmission']])\n",
    "\n",
    "onehot_ = OneHotEncoder_TypeOfAdmission.transform(a_dataset[['TypeOfAdmission']]).toarray()\n",
    "test_onehot_  = test_OneHotEncoder_TypeOfAdmission.transform(test_dataset[['TypeOfAdmission']]).toarray()\n",
    "\n",
    "colname = 'TypeOfAdmission'\n",
    "\n",
    "for i in range(len(OneHotEncoder_TypeOfAdmission.categories_[0])):\n",
    "    a_dataset[colname + '_' + str(OneHotEncoder_TypeOfAdmission.categories_[0][i])] = onehot_[:,i]\n",
    "    \n",
    "for i in range(len(test_OneHotEncoder_TypeOfAdmission.categories_[0])):\n",
    "    test_dataset[colname + '_' + str(test_OneHotEncoder_TypeOfAdmission.categories_[0][i])] = test_onehot_[:,i]\n",
    "    "
   ]
  },
  {
   "cell_type": "code",
   "execution_count": 99,
   "id": "perfect-devil",
   "metadata": {},
   "outputs": [
    {
     "name": "stdout",
     "output_type": "stream",
     "text": [
      "[array(['Elective', 'Emergency', 'Newborn', 'Trauma', 'Urgent'],\n",
      "      dtype=object)] [array(['Elective', 'Emergency', 'Newborn', 'Urgent'], dtype=object)]\n"
     ]
    }
   ],
   "source": [
    "print(test_OneHotEncoder_TypeOfAdmission.categories_, OneHotEncoder_TypeOfAdmission.categories_)\n"
   ]
  },
  {
   "cell_type": "code",
   "execution_count": 100,
   "id": "controlling-atmosphere",
   "metadata": {},
   "outputs": [],
   "source": [
    "a_dataset = a_dataset.drop(columns = ['TypeOfAdmission'])\n",
    "test_dataset = test_dataset.drop(columns = ['TypeOfAdmission'])"
   ]
  },
  {
   "cell_type": "code",
   "execution_count": 101,
   "id": "portuguese-craps",
   "metadata": {},
   "outputs": [],
   "source": [
    "OneHotEncoder_Race = OneHotEncoder(handle_unknown ='ignore')\n",
    "OneHotEncoder_Race.fit(a_dataset[['Race']])\n",
    "\n",
    "test_OneHotEncoder_Race = OneHotEncoder(handle_unknown ='ignore')\n",
    "test_OneHotEncoder_Race.fit(test_dataset[['Race']])\n",
    "\n",
    "onehot_ = OneHotEncoder_Race.transform(a_dataset[['Race']]).toarray()\n",
    "test_onehot_ = test_OneHotEncoder_Race.transform(test_dataset[['Race']]).toarray()\n",
    "\n",
    "colname = 'Race'\n",
    "for i in range(len(OneHotEncoder_Race.categories_[0])):\n",
    "    a_dataset[colname + '_' + str(OneHotEncoder_Race.categories_[0][i])] = onehot_[:,i]\n",
    "\n",
    "for i in range(len(test_OneHotEncoder_Race.categories_[0])):\n",
    "    test_dataset[colname + '_' + str(test_OneHotEncoder_Race.categories_[0][i])] = test_onehot_[:,i]\n"
   ]
  },
  {
   "cell_type": "code",
   "execution_count": 102,
   "id": "boring-treasury",
   "metadata": {},
   "outputs": [],
   "source": [
    "a_dataset = a_dataset.drop(columns = ['Race'])\n",
    "\n"
   ]
  },
  {
   "cell_type": "code",
   "execution_count": 103,
   "id": "reduced-class",
   "metadata": {},
   "outputs": [
    {
     "data": {
      "text/html": [
       "<div>\n",
       "<style scoped>\n",
       "    .dataframe tbody tr th:only-of-type {\n",
       "        vertical-align: middle;\n",
       "    }\n",
       "\n",
       "    .dataframe tbody tr th {\n",
       "        vertical-align: top;\n",
       "    }\n",
       "\n",
       "    .dataframe thead th {\n",
       "        text-align: right;\n",
       "    }\n",
       "</style>\n",
       "<table border=\"1\" class=\"dataframe\">\n",
       "  <thead>\n",
       "    <tr style=\"text-align: right;\">\n",
       "      <th></th>\n",
       "      <th>CCSProcedureCode</th>\n",
       "      <th>APRSeverityOfIllnessCode</th>\n",
       "      <th>PaymentTypology</th>\n",
       "      <th>BirthWeight</th>\n",
       "      <th>EmergencyDepartmentIndicator</th>\n",
       "      <th>AverageCostInCounty</th>\n",
       "      <th>AverageChargesInCounty</th>\n",
       "      <th>AverageCostInFacility</th>\n",
       "      <th>AverageChargesInFacility</th>\n",
       "      <th>AverageIncomeInZipCode</th>\n",
       "      <th>...</th>\n",
       "      <th>Gender_M</th>\n",
       "      <th>Gender_U</th>\n",
       "      <th>TypeOfAdmission_Elective</th>\n",
       "      <th>TypeOfAdmission_Emergency</th>\n",
       "      <th>TypeOfAdmission_Newborn</th>\n",
       "      <th>TypeOfAdmission_Urgent</th>\n",
       "      <th>Race_Black/African American</th>\n",
       "      <th>Race_Multi-racial</th>\n",
       "      <th>Race_Other Race</th>\n",
       "      <th>Race_White</th>\n",
       "    </tr>\n",
       "  </thead>\n",
       "  <tbody>\n",
       "    <tr>\n",
       "      <th>0</th>\n",
       "      <td>228</td>\n",
       "      <td>1</td>\n",
       "      <td>Medicaid</td>\n",
       "      <td>3700</td>\n",
       "      <td>N</td>\n",
       "      <td>2611</td>\n",
       "      <td>9227</td>\n",
       "      <td>1751</td>\n",
       "      <td>8951</td>\n",
       "      <td>45</td>\n",
       "      <td>...</td>\n",
       "      <td>0.0</td>\n",
       "      <td>0.0</td>\n",
       "      <td>0.0</td>\n",
       "      <td>0.0</td>\n",
       "      <td>1.0</td>\n",
       "      <td>0.0</td>\n",
       "      <td>0.0</td>\n",
       "      <td>0.0</td>\n",
       "      <td>1.0</td>\n",
       "      <td>0.0</td>\n",
       "    </tr>\n",
       "    <tr>\n",
       "      <th>1</th>\n",
       "      <td>228</td>\n",
       "      <td>1</td>\n",
       "      <td>Medicaid</td>\n",
       "      <td>2900</td>\n",
       "      <td>N</td>\n",
       "      <td>3242</td>\n",
       "      <td>8966</td>\n",
       "      <td>3338</td>\n",
       "      <td>6409</td>\n",
       "      <td>34</td>\n",
       "      <td>...</td>\n",
       "      <td>1.0</td>\n",
       "      <td>0.0</td>\n",
       "      <td>0.0</td>\n",
       "      <td>0.0</td>\n",
       "      <td>1.0</td>\n",
       "      <td>0.0</td>\n",
       "      <td>1.0</td>\n",
       "      <td>0.0</td>\n",
       "      <td>0.0</td>\n",
       "      <td>0.0</td>\n",
       "    </tr>\n",
       "    <tr>\n",
       "      <th>2</th>\n",
       "      <td>220</td>\n",
       "      <td>1</td>\n",
       "      <td>Private Health Insurance</td>\n",
       "      <td>3200</td>\n",
       "      <td>N</td>\n",
       "      <td>3155</td>\n",
       "      <td>11381</td>\n",
       "      <td>4980</td>\n",
       "      <td>9323</td>\n",
       "      <td>45</td>\n",
       "      <td>...</td>\n",
       "      <td>1.0</td>\n",
       "      <td>0.0</td>\n",
       "      <td>0.0</td>\n",
       "      <td>0.0</td>\n",
       "      <td>1.0</td>\n",
       "      <td>0.0</td>\n",
       "      <td>0.0</td>\n",
       "      <td>0.0</td>\n",
       "      <td>1.0</td>\n",
       "      <td>0.0</td>\n",
       "    </tr>\n",
       "    <tr>\n",
       "      <th>3</th>\n",
       "      <td>0</td>\n",
       "      <td>1</td>\n",
       "      <td>Private Health Insurance</td>\n",
       "      <td>3300</td>\n",
       "      <td>N</td>\n",
       "      <td>3155</td>\n",
       "      <td>11381</td>\n",
       "      <td>5826</td>\n",
       "      <td>15680</td>\n",
       "      <td>59</td>\n",
       "      <td>...</td>\n",
       "      <td>0.0</td>\n",
       "      <td>0.0</td>\n",
       "      <td>0.0</td>\n",
       "      <td>0.0</td>\n",
       "      <td>1.0</td>\n",
       "      <td>0.0</td>\n",
       "      <td>0.0</td>\n",
       "      <td>0.0</td>\n",
       "      <td>1.0</td>\n",
       "      <td>0.0</td>\n",
       "    </tr>\n",
       "    <tr>\n",
       "      <th>4</th>\n",
       "      <td>228</td>\n",
       "      <td>1</td>\n",
       "      <td>Medicaid</td>\n",
       "      <td>2600</td>\n",
       "      <td>N</td>\n",
       "      <td>2611</td>\n",
       "      <td>9227</td>\n",
       "      <td>6000</td>\n",
       "      <td>14344</td>\n",
       "      <td>59</td>\n",
       "      <td>...</td>\n",
       "      <td>0.0</td>\n",
       "      <td>0.0</td>\n",
       "      <td>0.0</td>\n",
       "      <td>0.0</td>\n",
       "      <td>1.0</td>\n",
       "      <td>0.0</td>\n",
       "      <td>0.0</td>\n",
       "      <td>0.0</td>\n",
       "      <td>1.0</td>\n",
       "      <td>0.0</td>\n",
       "    </tr>\n",
       "  </tbody>\n",
       "</table>\n",
       "<p>5 rows × 22 columns</p>\n",
       "</div>"
      ],
      "text/plain": [
       "   CCSProcedureCode  APRSeverityOfIllnessCode           PaymentTypology  \\\n",
       "0               228                         1                  Medicaid   \n",
       "1               228                         1                  Medicaid   \n",
       "2               220                         1  Private Health Insurance   \n",
       "3                 0                         1  Private Health Insurance   \n",
       "4               228                         1                  Medicaid   \n",
       "\n",
       "   BirthWeight EmergencyDepartmentIndicator  AverageCostInCounty  \\\n",
       "0         3700                            N                 2611   \n",
       "1         2900                            N                 3242   \n",
       "2         3200                            N                 3155   \n",
       "3         3300                            N                 3155   \n",
       "4         2600                            N                 2611   \n",
       "\n",
       "   AverageChargesInCounty  AverageCostInFacility  AverageChargesInFacility  \\\n",
       "0                    9227                   1751                      8951   \n",
       "1                    8966                   3338                      6409   \n",
       "2                   11381                   4980                      9323   \n",
       "3                   11381                   5826                     15680   \n",
       "4                    9227                   6000                     14344   \n",
       "\n",
       "   AverageIncomeInZipCode  ...  Gender_M  Gender_U  TypeOfAdmission_Elective  \\\n",
       "0                      45  ...       0.0       0.0                       0.0   \n",
       "1                      34  ...       1.0       0.0                       0.0   \n",
       "2                      45  ...       1.0       0.0                       0.0   \n",
       "3                      59  ...       0.0       0.0                       0.0   \n",
       "4                      59  ...       0.0       0.0                       0.0   \n",
       "\n",
       "   TypeOfAdmission_Emergency  TypeOfAdmission_Newborn  TypeOfAdmission_Urgent  \\\n",
       "0                        0.0                      1.0                     0.0   \n",
       "1                        0.0                      1.0                     0.0   \n",
       "2                        0.0                      1.0                     0.0   \n",
       "3                        0.0                      1.0                     0.0   \n",
       "4                        0.0                      1.0                     0.0   \n",
       "\n",
       "   Race_Black/African American  Race_Multi-racial  Race_Other Race  Race_White  \n",
       "0                          0.0                0.0              1.0         0.0  \n",
       "1                          1.0                0.0              0.0         0.0  \n",
       "2                          0.0                0.0              1.0         0.0  \n",
       "3                          0.0                0.0              1.0         0.0  \n",
       "4                          0.0                0.0              1.0         0.0  \n",
       "\n",
       "[5 rows x 22 columns]"
      ]
     },
     "execution_count": 103,
     "metadata": {},
     "output_type": "execute_result"
    }
   ],
   "source": [
    "a_dataset.head()"
   ]
  },
  {
   "cell_type": "markdown",
   "id": "federal-grace",
   "metadata": {},
   "source": [
    "#### We insert TypeOfAdmission_Trauma as this was not fitted due to not appearing in \"train_data.csv\" even though this is a categorical value stated in the readme"
   ]
  },
  {
   "cell_type": "code",
   "execution_count": 104,
   "id": "limited-queen",
   "metadata": {},
   "outputs": [],
   "source": [
    "a_dataset.insert(18, \"TypeOfAdmission_Trauma\", 0.0)\n"
   ]
  },
  {
   "cell_type": "code",
   "execution_count": 105,
   "id": "female-reminder",
   "metadata": {},
   "outputs": [],
   "source": [
    "test_dataset = test_dataset.drop(columns = ['Race'])"
   ]
  },
  {
   "cell_type": "code",
   "execution_count": 106,
   "id": "another-forge",
   "metadata": {},
   "outputs": [],
   "source": [
    "OneHotEncoder_CCSProcedureCode = OneHotEncoder(handle_unknown ='ignore')\n",
    "OneHotEncoder_CCSProcedureCode.fit(a_dataset[['CCSProcedureCode']])\n",
    "\n",
    "test_OneHotEncoder_CCSProcedureCode = OneHotEncoder(handle_unknown ='ignore')\n",
    "test_OneHotEncoder_CCSProcedureCode.fit(test_dataset[['CCSProcedureCode']])\n",
    "\n",
    "onehot_ = OneHotEncoder_CCSProcedureCode.transform(a_dataset[['CCSProcedureCode']]).toarray()\n",
    "test_onehot_ = test_OneHotEncoder_CCSProcedureCode.transform(test_dataset[['CCSProcedureCode']]).toarray()\n",
    "\n",
    "colname = 'CCSProcedureCode'\n",
    "for i in range(len(OneHotEncoder_CCSProcedureCode.categories_[0])):\n",
    "    a_dataset[colname + '_' + str(OneHotEncoder_CCSProcedureCode.categories_[0][i])] = onehot_[:,i]\n",
    "\n",
    "for i in range(len(test_OneHotEncoder_CCSProcedureCode.categories_[0])):\n",
    "    test_dataset[colname + '_' + str(test_OneHotEncoder_CCSProcedureCode.categories_[0][i])] = test_onehot_[:,i]\n",
    "\n",
    "a_dataset = a_dataset.drop(columns = ['CCSProcedureCode'])\n",
    "test_dataset = test_dataset.drop(columns = ['CCSProcedureCode'])"
   ]
  },
  {
   "cell_type": "code",
   "execution_count": 107,
   "id": "adjacent-conservation",
   "metadata": {},
   "outputs": [
    {
     "data": {
      "text/plain": [
       "Index(['APRSeverityOfIllnessCode', 'PaymentTypology', 'BirthWeight',\n",
       "       'EmergencyDepartmentIndicator', 'AverageCostInCounty',\n",
       "       'AverageChargesInCounty', 'AverageCostInFacility',\n",
       "       'AverageChargesInFacility', 'AverageIncomeInZipCode', 'Gender_F',\n",
       "       'Gender_M', 'Gender_U', 'TypeOfAdmission_Elective',\n",
       "       'TypeOfAdmission_Emergency', 'TypeOfAdmission_Newborn',\n",
       "       'TypeOfAdmission_Trauma', 'TypeOfAdmission_Urgent',\n",
       "       'Race_Black/African American', 'Race_Multi-racial', 'Race_Other Race',\n",
       "       'Race_White', 'CCSProcedureCode_-1', 'CCSProcedureCode_0',\n",
       "       'CCSProcedureCode_115', 'CCSProcedureCode_216', 'CCSProcedureCode_220',\n",
       "       'CCSProcedureCode_228', 'CCSProcedureCode_231'],\n",
       "      dtype='object')"
      ]
     },
     "execution_count": 107,
     "metadata": {},
     "output_type": "execute_result"
    }
   ],
   "source": [
    "test_dataset.columns"
   ]
  },
  {
   "cell_type": "code",
   "execution_count": 108,
   "id": "major-toolbox",
   "metadata": {},
   "outputs": [],
   "source": [
    "a_dataset.loc[a_dataset.EmergencyDepartmentIndicator == \"N\", \"EmergencyDepartmentIndicator\"] = 0\n",
    "a_dataset.loc[a_dataset.EmergencyDepartmentIndicator == \"Y\", \"EmergencyDepartmentIndicator\"] = 1\n",
    "\n",
    "test_dataset.loc[test_dataset.EmergencyDepartmentIndicator == \"N\", \"EmergencyDepartmentIndicator\"] = 0\n",
    "test_dataset.loc[test_dataset.EmergencyDepartmentIndicator == \"Y\", \"EmergencyDepartmentIndicator\"] = 1\n"
   ]
  },
  {
   "cell_type": "code",
   "execution_count": 109,
   "id": "worldwide-dinner",
   "metadata": {},
   "outputs": [],
   "source": [
    "OneHotEncoder_PaymentTypology = OneHotEncoder(handle_unknown ='ignore')\n",
    "OneHotEncoder_PaymentTypology.fit(a_dataset[['PaymentTypology']])\n",
    "\n",
    "test_OneHotEncoder_PaymentTypology = OneHotEncoder(handle_unknown ='ignore')\n",
    "test_OneHotEncoder_PaymentTypology.fit(test_dataset[['PaymentTypology']])\n",
    "\n",
    "onehot_ = OneHotEncoder_PaymentTypology.transform(a_dataset[['PaymentTypology']]).toarray()\n",
    "test_onehot_ = test_OneHotEncoder_PaymentTypology.transform(test_dataset[['PaymentTypology']]).toarray()\n",
    "\n",
    "colname = 'PaymentTypology'\n",
    "for i in range(len(OneHotEncoder_PaymentTypology.categories_[0])):\n",
    "    a_dataset[colname + '_' + str(OneHotEncoder_PaymentTypology.categories_[0][i])] = onehot_[:,i]\n",
    "for i in range(len(test_OneHotEncoder_PaymentTypology.categories_[0])):\n",
    "    test_dataset[colname + '_' + str(test_OneHotEncoder_PaymentTypology.categories_[0][i])] = test_onehot_[:,i]\n",
    "    \n",
    "a_dataset = a_dataset.drop(columns = ['PaymentTypology'])\n",
    "test_dataset = test_dataset.drop(columns = ['PaymentTypology'])"
   ]
  },
  {
   "cell_type": "code",
   "execution_count": 110,
   "id": "similar-engineering",
   "metadata": {},
   "outputs": [
    {
     "data": {
      "text/plain": [
       "Index(['PaymentTypology_Department of Corrections'], dtype='object')"
      ]
     },
     "execution_count": 110,
     "metadata": {},
     "output_type": "execute_result"
    }
   ],
   "source": [
    "test_dataset.columns.difference(a_dataset.columns)"
   ]
  },
  {
   "cell_type": "markdown",
   "id": "separated-universe",
   "metadata": {},
   "source": [
    "#### The PaymentTypology \"Department of Corrections\" was not found in the train dataset but it was found in the test data so we will add it with the value 0 "
   ]
  },
  {
   "cell_type": "code",
   "execution_count": 111,
   "id": "modular-developer",
   "metadata": {},
   "outputs": [],
   "source": [
    "test_dataset.head()\n",
    "\n",
    "a_dataset.insert(29, \"PaymentTypology_Department of Corrections\", '0.0')"
   ]
  },
  {
   "cell_type": "code",
   "execution_count": 112,
   "id": "cross-apparel",
   "metadata": {},
   "outputs": [
    {
     "data": {
      "image/png": "[encoded data removed]",
      "text/plain": [
       "<Figure size 4320x1440 with 39 Axes>"
      ]
     },
     "metadata": {
      "needs_background": "light"
     },
     "output_type": "display_data"
    }
   ],
   "source": [
    "i = 0\n",
    "j = 0\n",
    "num_col = len(a_dataset.columns)\n",
    "\n",
    "fig, axs = plt.subplots(3, 13,figsize=(60,20))\n",
    "num_bins = 10\n",
    "\n",
    "\n",
    "for col in a_dataset.columns:\n",
    "    axs[j][i].hist(a_dataset[col], num_bins)\n",
    "    axs[j][i].title.set_text(col)\n",
    "       \n",
    "    i +=1\n",
    "    if i == 13:\n",
    "        \n",
    "        j += 1\n",
    "        i = 0\n",
    "    \n",
    "plt.show()"
   ]
  },
  {
   "cell_type": "markdown",
   "id": "imperial-manufacturer",
   "metadata": {},
   "source": [
    "<h3>Determine which Scaling technique to use</h3>"
   ]
  },
  {
   "cell_type": "code",
   "execution_count": 113,
   "id": "color-canvas",
   "metadata": {},
   "outputs": [
    {
     "data": {
      "text/plain": [
       "Text(0.5, 1.0, 'After Standard Scaling')"
      ]
     },
     "execution_count": 113,
     "metadata": {},
     "output_type": "execute_result"
    },
    {
     "data": {
      "image/png": "[encoded data removed]",
      "text/plain": [
       "<Figure size 1080x360 with 3 Axes>"
      ]
     },
     "metadata": {
      "needs_background": "light"
     },
     "output_type": "display_data"
    }
   ],
   "source": [
    "from sklearn.preprocessing import MinMaxScaler\n",
    "from sklearn.preprocessing import StandardScaler\n",
    "\n",
    "MinMaxScaler = MinMaxScaler().fit(a_dataset[['BirthWeight']])\n",
    "minmax = MinMaxScaler.transform(a_dataset[['BirthWeight']])\n",
    "\n",
    "StandardScaler = StandardScaler().fit(a_dataset[['BirthWeight']])\n",
    "standard = StandardScaler.transform(a_dataset[['BirthWeight']])\n",
    "plt.figure(figsize=(15,5))\n",
    "plt.subplot(1,3,1)\n",
    "plt.hist(a_dataset[['BirthWeight']], alpha=0.3, color='r')\n",
    "plt.title(\"Original\")\n",
    "\n",
    "plt.subplot(1,3,2)\n",
    "plt.hist(standard, alpha=0.3, color='r')\n",
    "plt.title(\"After Min-Max scaling\")\n",
    "\n",
    "plt.subplot(1,3,3)\n",
    "plt.hist(standard, alpha=0.3, color='r')\n",
    "plt.title(\"After Standard Scaling\")\n",
    "\n"
   ]
  },
  {
   "cell_type": "markdown",
   "id": "sustained-raleigh",
   "metadata": {},
   "source": [
    "#### We will use Standard Scaling for transformation after applying PolynomialFeatures(2) on our Dataset"
   ]
  },
  {
   "cell_type": "code",
   "execution_count": 114,
   "id": "quantitative-regression",
   "metadata": {},
   "outputs": [
    {
     "data": {
      "text/plain": [
       "\"a_dataset['BirthWeight'] = StandardScaler_RM.transform(a_dataset[['BirthWeight']])\\na_dataset['BirthWeight'] = StandardScaler_RM.transform(a_dataset[['BirthWeight']])\\na_dataset['BirthWeight'] = StandardScaler_RM.transform(a_dataset[['BirthWeight']])\\n\""
      ]
     },
     "execution_count": 114,
     "metadata": {},
     "output_type": "execute_result"
    }
   ],
   "source": [
    "\"\"\"a_dataset['BirthWeight'] = StandardScaler_RM.transform(a_dataset[['BirthWeight']])\n",
    "a_dataset['BirthWeight'] = StandardScaler_RM.transform(a_dataset[['BirthWeight']])\n",
    "a_dataset['BirthWeight'] = StandardScaler_RM.transform(a_dataset[['BirthWeight']])\n",
    "\"\"\""
   ]
  },
  {
   "cell_type": "markdown",
   "id": "contained-blackberry",
   "metadata": {},
   "source": [
    "### Transform column \"LengthOfStay\" to 0 (if LengthOfStay < 4) or 1 if ( Length of stay >= 4)"
   ]
  },
  {
   "cell_type": "code",
   "execution_count": 115,
   "id": "under-compilation",
   "metadata": {},
   "outputs": [],
   "source": [
    "a_dataset.loc[a_dataset.LengthOfStay < 4, \"LengthOfStay\"] = 0\n",
    "a_dataset.loc[a_dataset.LengthOfStay > 3, \"LengthOfStay\"] = 1\n"
   ]
  },
  {
   "cell_type": "code",
   "execution_count": 116,
   "id": "transsexual-making",
   "metadata": {},
   "outputs": [
    {
     "data": {
      "text/html": [
       "<div>\n",
       "<style scoped>\n",
       "    .dataframe tbody tr th:only-of-type {\n",
       "        vertical-align: middle;\n",
       "    }\n",
       "\n",
       "    .dataframe tbody tr th {\n",
       "        vertical-align: top;\n",
       "    }\n",
       "\n",
       "    .dataframe thead th {\n",
       "        text-align: right;\n",
       "    }\n",
       "</style>\n",
       "<table border=\"1\" class=\"dataframe\">\n",
       "  <thead>\n",
       "    <tr style=\"text-align: right;\">\n",
       "      <th></th>\n",
       "      <th>APRSeverityOfIllnessCode</th>\n",
       "      <th>BirthWeight</th>\n",
       "      <th>EmergencyDepartmentIndicator</th>\n",
       "      <th>AverageCostInCounty</th>\n",
       "      <th>AverageChargesInCounty</th>\n",
       "      <th>AverageCostInFacility</th>\n",
       "      <th>AverageChargesInFacility</th>\n",
       "      <th>AverageIncomeInZipCode</th>\n",
       "      <th>LengthOfStay</th>\n",
       "      <th>Gender_F</th>\n",
       "      <th>...</th>\n",
       "      <th>PaymentTypology_Blue Cross/Blue Shield</th>\n",
       "      <th>PaymentTypology_Department of Corrections</th>\n",
       "      <th>PaymentTypology_Federal/State/Local/VA</th>\n",
       "      <th>PaymentTypology_Managed Care, Unspecified</th>\n",
       "      <th>PaymentTypology_Medicaid</th>\n",
       "      <th>PaymentTypology_Medicare</th>\n",
       "      <th>PaymentTypology_Miscellaneous/Other</th>\n",
       "      <th>PaymentTypology_Private Health Insurance</th>\n",
       "      <th>PaymentTypology_Self-Pay</th>\n",
       "      <th>PaymentTypology_Unknown</th>\n",
       "    </tr>\n",
       "  </thead>\n",
       "  <tbody>\n",
       "    <tr>\n",
       "      <th>0</th>\n",
       "      <td>1</td>\n",
       "      <td>3700</td>\n",
       "      <td>0</td>\n",
       "      <td>2611</td>\n",
       "      <td>9227</td>\n",
       "      <td>1751</td>\n",
       "      <td>8951</td>\n",
       "      <td>45</td>\n",
       "      <td>0</td>\n",
       "      <td>1.0</td>\n",
       "      <td>...</td>\n",
       "      <td>0.0</td>\n",
       "      <td>0.0</td>\n",
       "      <td>0.0</td>\n",
       "      <td>0.0</td>\n",
       "      <td>1.0</td>\n",
       "      <td>0.0</td>\n",
       "      <td>0.0</td>\n",
       "      <td>0.0</td>\n",
       "      <td>0.0</td>\n",
       "      <td>0.0</td>\n",
       "    </tr>\n",
       "    <tr>\n",
       "      <th>1</th>\n",
       "      <td>1</td>\n",
       "      <td>2900</td>\n",
       "      <td>0</td>\n",
       "      <td>3242</td>\n",
       "      <td>8966</td>\n",
       "      <td>3338</td>\n",
       "      <td>6409</td>\n",
       "      <td>34</td>\n",
       "      <td>0</td>\n",
       "      <td>0.0</td>\n",
       "      <td>...</td>\n",
       "      <td>0.0</td>\n",
       "      <td>0.0</td>\n",
       "      <td>0.0</td>\n",
       "      <td>0.0</td>\n",
       "      <td>1.0</td>\n",
       "      <td>0.0</td>\n",
       "      <td>0.0</td>\n",
       "      <td>0.0</td>\n",
       "      <td>0.0</td>\n",
       "      <td>0.0</td>\n",
       "    </tr>\n",
       "    <tr>\n",
       "      <th>2</th>\n",
       "      <td>1</td>\n",
       "      <td>3200</td>\n",
       "      <td>0</td>\n",
       "      <td>3155</td>\n",
       "      <td>11381</td>\n",
       "      <td>4980</td>\n",
       "      <td>9323</td>\n",
       "      <td>45</td>\n",
       "      <td>0</td>\n",
       "      <td>0.0</td>\n",
       "      <td>...</td>\n",
       "      <td>0.0</td>\n",
       "      <td>0.0</td>\n",
       "      <td>0.0</td>\n",
       "      <td>0.0</td>\n",
       "      <td>0.0</td>\n",
       "      <td>0.0</td>\n",
       "      <td>0.0</td>\n",
       "      <td>1.0</td>\n",
       "      <td>0.0</td>\n",
       "      <td>0.0</td>\n",
       "    </tr>\n",
       "    <tr>\n",
       "      <th>3</th>\n",
       "      <td>1</td>\n",
       "      <td>3300</td>\n",
       "      <td>0</td>\n",
       "      <td>3155</td>\n",
       "      <td>11381</td>\n",
       "      <td>5826</td>\n",
       "      <td>15680</td>\n",
       "      <td>59</td>\n",
       "      <td>0</td>\n",
       "      <td>1.0</td>\n",
       "      <td>...</td>\n",
       "      <td>0.0</td>\n",
       "      <td>0.0</td>\n",
       "      <td>0.0</td>\n",
       "      <td>0.0</td>\n",
       "      <td>0.0</td>\n",
       "      <td>0.0</td>\n",
       "      <td>0.0</td>\n",
       "      <td>1.0</td>\n",
       "      <td>0.0</td>\n",
       "      <td>0.0</td>\n",
       "    </tr>\n",
       "    <tr>\n",
       "      <th>4</th>\n",
       "      <td>1</td>\n",
       "      <td>2600</td>\n",
       "      <td>0</td>\n",
       "      <td>2611</td>\n",
       "      <td>9227</td>\n",
       "      <td>6000</td>\n",
       "      <td>14344</td>\n",
       "      <td>59</td>\n",
       "      <td>0</td>\n",
       "      <td>1.0</td>\n",
       "      <td>...</td>\n",
       "      <td>0.0</td>\n",
       "      <td>0.0</td>\n",
       "      <td>0.0</td>\n",
       "      <td>0.0</td>\n",
       "      <td>1.0</td>\n",
       "      <td>0.0</td>\n",
       "      <td>0.0</td>\n",
       "      <td>0.0</td>\n",
       "      <td>0.0</td>\n",
       "      <td>0.0</td>\n",
       "    </tr>\n",
       "    <tr>\n",
       "      <th>...</th>\n",
       "      <td>...</td>\n",
       "      <td>...</td>\n",
       "      <td>...</td>\n",
       "      <td>...</td>\n",
       "      <td>...</td>\n",
       "      <td>...</td>\n",
       "      <td>...</td>\n",
       "      <td>...</td>\n",
       "      <td>...</td>\n",
       "      <td>...</td>\n",
       "      <td>...</td>\n",
       "      <td>...</td>\n",
       "      <td>...</td>\n",
       "      <td>...</td>\n",
       "      <td>...</td>\n",
       "      <td>...</td>\n",
       "      <td>...</td>\n",
       "      <td>...</td>\n",
       "      <td>...</td>\n",
       "      <td>...</td>\n",
       "      <td>...</td>\n",
       "    </tr>\n",
       "    <tr>\n",
       "      <th>59961</th>\n",
       "      <td>1</td>\n",
       "      <td>3600</td>\n",
       "      <td>0</td>\n",
       "      <td>1826</td>\n",
       "      <td>4190</td>\n",
       "      <td>1551</td>\n",
       "      <td>3715</td>\n",
       "      <td>36</td>\n",
       "      <td>1</td>\n",
       "      <td>0.0</td>\n",
       "      <td>...</td>\n",
       "      <td>1.0</td>\n",
       "      <td>0.0</td>\n",
       "      <td>0.0</td>\n",
       "      <td>0.0</td>\n",
       "      <td>0.0</td>\n",
       "      <td>0.0</td>\n",
       "      <td>0.0</td>\n",
       "      <td>0.0</td>\n",
       "      <td>0.0</td>\n",
       "      <td>0.0</td>\n",
       "    </tr>\n",
       "    <tr>\n",
       "      <th>59962</th>\n",
       "      <td>2</td>\n",
       "      <td>3300</td>\n",
       "      <td>0</td>\n",
       "      <td>1826</td>\n",
       "      <td>4190</td>\n",
       "      <td>1551</td>\n",
       "      <td>3715</td>\n",
       "      <td>55</td>\n",
       "      <td>1</td>\n",
       "      <td>0.0</td>\n",
       "      <td>...</td>\n",
       "      <td>1.0</td>\n",
       "      <td>0.0</td>\n",
       "      <td>0.0</td>\n",
       "      <td>0.0</td>\n",
       "      <td>0.0</td>\n",
       "      <td>0.0</td>\n",
       "      <td>0.0</td>\n",
       "      <td>0.0</td>\n",
       "      <td>0.0</td>\n",
       "      <td>0.0</td>\n",
       "    </tr>\n",
       "    <tr>\n",
       "      <th>59963</th>\n",
       "      <td>2</td>\n",
       "      <td>3400</td>\n",
       "      <td>0</td>\n",
       "      <td>1826</td>\n",
       "      <td>4190</td>\n",
       "      <td>1551</td>\n",
       "      <td>3715</td>\n",
       "      <td>55</td>\n",
       "      <td>1</td>\n",
       "      <td>0.0</td>\n",
       "      <td>...</td>\n",
       "      <td>1.0</td>\n",
       "      <td>0.0</td>\n",
       "      <td>0.0</td>\n",
       "      <td>0.0</td>\n",
       "      <td>0.0</td>\n",
       "      <td>0.0</td>\n",
       "      <td>0.0</td>\n",
       "      <td>0.0</td>\n",
       "      <td>0.0</td>\n",
       "      <td>0.0</td>\n",
       "    </tr>\n",
       "    <tr>\n",
       "      <th>59964</th>\n",
       "      <td>2</td>\n",
       "      <td>3100</td>\n",
       "      <td>0</td>\n",
       "      <td>1826</td>\n",
       "      <td>4190</td>\n",
       "      <td>1551</td>\n",
       "      <td>3715</td>\n",
       "      <td>55</td>\n",
       "      <td>1</td>\n",
       "      <td>0.0</td>\n",
       "      <td>...</td>\n",
       "      <td>0.0</td>\n",
       "      <td>0.0</td>\n",
       "      <td>0.0</td>\n",
       "      <td>0.0</td>\n",
       "      <td>1.0</td>\n",
       "      <td>0.0</td>\n",
       "      <td>0.0</td>\n",
       "      <td>0.0</td>\n",
       "      <td>0.0</td>\n",
       "      <td>0.0</td>\n",
       "    </tr>\n",
       "    <tr>\n",
       "      <th>59965</th>\n",
       "      <td>2</td>\n",
       "      <td>3900</td>\n",
       "      <td>0</td>\n",
       "      <td>1826</td>\n",
       "      <td>4190</td>\n",
       "      <td>1551</td>\n",
       "      <td>3715</td>\n",
       "      <td>36</td>\n",
       "      <td>1</td>\n",
       "      <td>1.0</td>\n",
       "      <td>...</td>\n",
       "      <td>1.0</td>\n",
       "      <td>0.0</td>\n",
       "      <td>0.0</td>\n",
       "      <td>0.0</td>\n",
       "      <td>0.0</td>\n",
       "      <td>0.0</td>\n",
       "      <td>0.0</td>\n",
       "      <td>0.0</td>\n",
       "      <td>0.0</td>\n",
       "      <td>0.0</td>\n",
       "    </tr>\n",
       "  </tbody>\n",
       "</table>\n",
       "<p>59966 rows × 38 columns</p>\n",
       "</div>"
      ],
      "text/plain": [
       "       APRSeverityOfIllnessCode  BirthWeight EmergencyDepartmentIndicator  \\\n",
       "0                             1         3700                            0   \n",
       "1                             1         2900                            0   \n",
       "2                             1         3200                            0   \n",
       "3                             1         3300                            0   \n",
       "4                             1         2600                            0   \n",
       "...                         ...          ...                          ...   \n",
       "59961                         1         3600                            0   \n",
       "59962                         2         3300                            0   \n",
       "59963                         2         3400                            0   \n",
       "59964                         2         3100                            0   \n",
       "59965                         2         3900                            0   \n",
       "\n",
       "       AverageCostInCounty  AverageChargesInCounty  AverageCostInFacility  \\\n",
       "0                     2611                    9227                   1751   \n",
       "1                     3242                    8966                   3338   \n",
       "2                     3155                   11381                   4980   \n",
       "3                     3155                   11381                   5826   \n",
       "4                     2611                    9227                   6000   \n",
       "...                    ...                     ...                    ...   \n",
       "59961                 1826                    4190                   1551   \n",
       "59962                 1826                    4190                   1551   \n",
       "59963                 1826                    4190                   1551   \n",
       "59964                 1826                    4190                   1551   \n",
       "59965                 1826                    4190                   1551   \n",
       "\n",
       "       AverageChargesInFacility  AverageIncomeInZipCode  LengthOfStay  \\\n",
       "0                          8951                      45             0   \n",
       "1                          6409                      34             0   \n",
       "2                          9323                      45             0   \n",
       "3                         15680                      59             0   \n",
       "4                         14344                      59             0   \n",
       "...                         ...                     ...           ...   \n",
       "59961                      3715                      36             1   \n",
       "59962                      3715                      55             1   \n",
       "59963                      3715                      55             1   \n",
       "59964                      3715                      55             1   \n",
       "59965                      3715                      36             1   \n",
       "\n",
       "       Gender_F  ...  PaymentTypology_Blue Cross/Blue Shield  \\\n",
       "0           1.0  ...                                     0.0   \n",
       "1           0.0  ...                                     0.0   \n",
       "2           0.0  ...                                     0.0   \n",
       "3           1.0  ...                                     0.0   \n",
       "4           1.0  ...                                     0.0   \n",
       "...         ...  ...                                     ...   \n",
       "59961       0.0  ...                                     1.0   \n",
       "59962       0.0  ...                                     1.0   \n",
       "59963       0.0  ...                                     1.0   \n",
       "59964       0.0  ...                                     0.0   \n",
       "59965       1.0  ...                                     1.0   \n",
       "\n",
       "       PaymentTypology_Department of Corrections  \\\n",
       "0                                            0.0   \n",
       "1                                            0.0   \n",
       "2                                            0.0   \n",
       "3                                            0.0   \n",
       "4                                            0.0   \n",
       "...                                          ...   \n",
       "59961                                        0.0   \n",
       "59962                                        0.0   \n",
       "59963                                        0.0   \n",
       "59964                                        0.0   \n",
       "59965                                        0.0   \n",
       "\n",
       "       PaymentTypology_Federal/State/Local/VA  \\\n",
       "0                                         0.0   \n",
       "1                                         0.0   \n",
       "2                                         0.0   \n",
       "3                                         0.0   \n",
       "4                                         0.0   \n",
       "...                                       ...   \n",
       "59961                                     0.0   \n",
       "59962                                     0.0   \n",
       "59963                                     0.0   \n",
       "59964                                     0.0   \n",
       "59965                                     0.0   \n",
       "\n",
       "       PaymentTypology_Managed Care, Unspecified  PaymentTypology_Medicaid  \\\n",
       "0                                            0.0                       1.0   \n",
       "1                                            0.0                       1.0   \n",
       "2                                            0.0                       0.0   \n",
       "3                                            0.0                       0.0   \n",
       "4                                            0.0                       1.0   \n",
       "...                                          ...                       ...   \n",
       "59961                                        0.0                       0.0   \n",
       "59962                                        0.0                       0.0   \n",
       "59963                                        0.0                       0.0   \n",
       "59964                                        0.0                       1.0   \n",
       "59965                                        0.0                       0.0   \n",
       "\n",
       "       PaymentTypology_Medicare  PaymentTypology_Miscellaneous/Other  \\\n",
       "0                           0.0                                  0.0   \n",
       "1                           0.0                                  0.0   \n",
       "2                           0.0                                  0.0   \n",
       "3                           0.0                                  0.0   \n",
       "4                           0.0                                  0.0   \n",
       "...                         ...                                  ...   \n",
       "59961                       0.0                                  0.0   \n",
       "59962                       0.0                                  0.0   \n",
       "59963                       0.0                                  0.0   \n",
       "59964                       0.0                                  0.0   \n",
       "59965                       0.0                                  0.0   \n",
       "\n",
       "       PaymentTypology_Private Health Insurance  PaymentTypology_Self-Pay  \\\n",
       "0                                           0.0                       0.0   \n",
       "1                                           0.0                       0.0   \n",
       "2                                           1.0                       0.0   \n",
       "3                                           1.0                       0.0   \n",
       "4                                           0.0                       0.0   \n",
       "...                                         ...                       ...   \n",
       "59961                                       0.0                       0.0   \n",
       "59962                                       0.0                       0.0   \n",
       "59963                                       0.0                       0.0   \n",
       "59964                                       0.0                       0.0   \n",
       "59965                                       0.0                       0.0   \n",
       "\n",
       "       PaymentTypology_Unknown  \n",
       "0                          0.0  \n",
       "1                          0.0  \n",
       "2                          0.0  \n",
       "3                          0.0  \n",
       "4                          0.0  \n",
       "...                        ...  \n",
       "59961                      0.0  \n",
       "59962                      0.0  \n",
       "59963                      0.0  \n",
       "59964                      0.0  \n",
       "59965                      0.0  \n",
       "\n",
       "[59966 rows x 38 columns]"
      ]
     },
     "execution_count": 116,
     "metadata": {},
     "output_type": "execute_result"
    }
   ],
   "source": [
    "a_dataset"
   ]
  },
  {
   "cell_type": "markdown",
   "id": "moved-membrane",
   "metadata": {},
   "source": [
    "## Start building Regression model\n",
    "#### We will start by further splitting training data into training and validation"
   ]
  },
  {
   "cell_type": "code",
   "execution_count": 117,
   "id": "attended-response",
   "metadata": {},
   "outputs": [
    {
     "name": "stdout",
     "output_type": "stream",
     "text": [
      "38\n"
     ]
    }
   ],
   "source": [
    "print(a_dataset.shape[1])"
   ]
  },
  {
   "cell_type": "code",
   "execution_count": 118,
   "id": "found-yemen",
   "metadata": {},
   "outputs": [
    {
     "name": "stdout",
     "output_type": "stream",
     "text": [
      "44974 14992\n"
     ]
    }
   ],
   "source": [
    "\n",
    "from sklearn.model_selection import train_test_split\n",
    "\n",
    "drop_indices = np.random.choice(a_dataset.index, 20000, replace=False)\n",
    "a_subset = a_dataset #a_dataset.drop(drop_indices) #a_dataset\n",
    "\n",
    "with pd.option_context('mode.chained_assignment', None):\n",
    "    a_subset, val_data = train_test_split(a_subset, test_size= 0.25,\n",
    "                                          shuffle = True, random_state =0)\n",
    "    \n",
    "print(a_subset.shape[0], val_data.shape[0])\n"
   ]
  },
  {
   "cell_type": "code",
   "execution_count": 119,
   "id": "guided-shore",
   "metadata": {},
   "outputs": [
    {
     "name": "stdout",
     "output_type": "stream",
     "text": [
      "44974\n"
     ]
    }
   ],
   "source": [
    "\n",
    "print(a_subset.shape[0])"
   ]
  },
  {
   "cell_type": "code",
   "execution_count": 120,
   "id": "native-combine",
   "metadata": {},
   "outputs": [
    {
     "data": {
      "text/plain": [
       "Index(['APRSeverityOfIllnessCode', 'BirthWeight',\n",
       "       'EmergencyDepartmentIndicator', 'AverageCostInCounty',\n",
       "       'AverageChargesInCounty', 'AverageCostInFacility',\n",
       "       'AverageChargesInFacility', 'AverageIncomeInZipCode', 'Gender_F',\n",
       "       'Gender_M', 'Gender_U', 'TypeOfAdmission_Elective',\n",
       "       'TypeOfAdmission_Emergency', 'TypeOfAdmission_Newborn',\n",
       "       'TypeOfAdmission_Trauma', 'TypeOfAdmission_Urgent',\n",
       "       'Race_Black/African American', 'Race_Multi-racial', 'Race_Other Race',\n",
       "       'Race_White', 'CCSProcedureCode_-1', 'CCSProcedureCode_0',\n",
       "       'CCSProcedureCode_115', 'CCSProcedureCode_216', 'CCSProcedureCode_220',\n",
       "       'CCSProcedureCode_228', 'CCSProcedureCode_231',\n",
       "       'PaymentTypology_Blue Cross/Blue Shield',\n",
       "       'PaymentTypology_Department of Corrections',\n",
       "       'PaymentTypology_Federal/State/Local/VA',\n",
       "       'PaymentTypology_Managed Care, Unspecified', 'PaymentTypology_Medicaid',\n",
       "       'PaymentTypology_Medicare', 'PaymentTypology_Miscellaneous/Other',\n",
       "       'PaymentTypology_Private Health Insurance', 'PaymentTypology_Self-Pay',\n",
       "       'PaymentTypology_Unknown'],\n",
       "      dtype='object')"
      ]
     },
     "execution_count": 120,
     "metadata": {},
     "output_type": "execute_result"
    }
   ],
   "source": [
    "test_dataset.columns"
   ]
  },
  {
   "cell_type": "code",
   "execution_count": 121,
   "id": "departmental-surname",
   "metadata": {},
   "outputs": [],
   "source": [
    "non_encode_attributes = ['AverageCostInFacility','AverageChargesInCounty', 'BirthWeight','AverageCostInCounty','AverageChargesInFacility','AverageIncomeInZipCode']\n",
    "train_x= a_subset[['AverageCostInFacility','AverageChargesInCounty', 'BirthWeight','AverageCostInCounty','AverageChargesInFacility','AverageIncomeInZipCode']].copy()\n",
    "train_x = train_x.to_numpy()\n",
    "\n",
    "\n",
    "test_x = test_dataset[['AverageCostInFacility','AverageChargesInCounty', 'BirthWeight','AverageCostInCounty','AverageChargesInFacility','AverageIncomeInZipCode']].copy()\n",
    "test_x = test_x.to_numpy()\n",
    "\n",
    "train_x_encoded = a_subset.drop(['LengthOfStay', 'AverageCostInFacility','AverageChargesInCounty', 'BirthWeight','AverageCostInCounty','AverageChargesInFacility','AverageIncomeInZipCode'], axis = 1).to_numpy()\n",
    "\n",
    "train_y = a_subset[['LengthOfStay']].to_numpy()\n",
    "\n",
    "test_x_encoded = test_dataset.drop([ 'AverageCostInFacility','AverageChargesInCounty', 'BirthWeight','AverageCostInCounty','AverageChargesInFacility','AverageIncomeInZipCode'], axis = 1).to_numpy()\n",
    "\n",
    "val_x = val_data[['AverageCostInFacility','AverageChargesInCounty', 'BirthWeight','AverageCostInCounty','AverageChargesInFacility','AverageIncomeInZipCode']].copy()\n",
    "val_x = val_x.to_numpy()\n",
    "val_x_encoded = val_data.drop(['LengthOfStay', 'AverageCostInFacility','AverageChargesInCounty', 'BirthWeight','AverageCostInCounty','AverageChargesInFacility','AverageIncomeInZipCode'], axis = 1).to_numpy()\n",
    "val_y = val_data[['LengthOfStay']].to_numpy()"
   ]
  },
  {
   "cell_type": "code",
   "execution_count": 122,
   "id": "reduced-theology",
   "metadata": {},
   "outputs": [
    {
     "name": "stdout",
     "output_type": "stream",
     "text": [
      "[[ 3739  9917  3200  2041  7583    59]\n",
      " [ 1967  4620  2900  2158  4904    41]\n",
      " [ 1605  9917  3600  2041 12083    59]\n",
      " ...\n",
      " [ 1052 11381  3500  3155 11314    74]\n",
      " [ 1162 11381  3600  3155  9015    45]\n",
      " [ 2138  6179  3500  2756  7445    68]]\n"
     ]
    }
   ],
   "source": [
    "from sklearn.metrics import f1_score\n",
    "print(train_x)"
   ]
  },
  {
   "cell_type": "code",
   "execution_count": 123,
   "id": "fancy-stone",
   "metadata": {},
   "outputs": [],
   "source": [
    "from sklearn.preprocessing import PolynomialFeatures \n",
    "\n",
    "poly = PolynomialFeatures(2)\n",
    "poly.fit(train_x)\n",
    "train_x = poly.transform(train_x)\n",
    "test_x = poly.transform(test_x)\n",
    "val_x = poly.transform(val_x)\n",
    "\n"
   ]
  },
  {
   "cell_type": "code",
   "execution_count": 124,
   "id": "extended-ethics",
   "metadata": {},
   "outputs": [],
   "source": [
    "from sklearn.preprocessing import StandardScaler\n",
    "\n",
    "scaler = StandardScaler()\n",
    "scaler.fit(train_x)\n",
    "\n",
    "train_x = scaler.transform(train_x)\n",
    "val_x = scaler.transform(val_x)\n",
    "concat_train_X = np.concatenate([train_x,train_x_encoded],axis = 1)\n",
    "concat_val_X = np.concatenate([val_x, val_x_encoded],axis =1)\n",
    "test_x = scaler.transform(test_x)\n",
    "\n"
   ]
  },
  {
   "cell_type": "code",
   "execution_count": 125,
   "id": "flying-crack",
   "metadata": {},
   "outputs": [],
   "source": [
    "test_concat = np.concatenate([test_x, test_x_encoded],axis =1)"
   ]
  },
  {
   "cell_type": "code",
   "execution_count": 126,
   "id": "local-kingdom",
   "metadata": {},
   "outputs": [
    {
     "name": "stdout",
     "output_type": "stream",
     "text": [
      "[0.0 1.0814173297842773 0.6039050673109924 -0.30645068995369446\n",
      " -0.5145718397291703 -0.09271414710791605 -0.035483061392180826\n",
      " 0.8223787522740829 1.0501378926552398 0.9398731020456943\n",
      " 0.3642850838353878 0.436155202713549 0.8199050619786502 0.538784649081051\n",
      " 0.46785840488166086 -0.015353384640822407 0.031004714884306343\n",
      " 0.2438653119441625 -0.35388553135849204 -0.5795368004923073\n",
      " -0.1596683013131377 -0.13784916153884544 -0.6468042371929704\n",
      " -0.391150620444627 -0.340769890569622 -0.3149473179377674\n",
      " -0.1674218969226258 -0.1852246746877387 2 0 0.0 1.0 0.0 0.0 0.0 1.0 0.0\n",
      " 0.0 1.0 0.0 0.0 0.0 0.0 0.0 1.0 0.0 0.0 0.0 0.0 0.0 '0.0' 0.0 0.0 1.0 0.0\n",
      " 0.0 0.0 0.0 0.0]\n"
     ]
    }
   ],
   "source": [
    "# Re-add onehot-encoded values \n",
    "print(concat_train_X[0])"
   ]
  },
  {
   "cell_type": "code",
   "execution_count": 127,
   "id": "saving-ready",
   "metadata": {},
   "outputs": [
    {
     "name": "stdout",
     "output_type": "stream",
     "text": [
      "Train F1-Score score: 0.616\n",
      "Validation F1-Score score: 0.623\n"
     ]
    }
   ],
   "source": [
    "from sklearn.linear_model import LogisticRegression\n",
    "clf = LogisticRegression(random_state=0, penalty='none', solver='saga', \n",
    "                         max_iter=1500, \n",
    "                         class_weight='balanced').fit(concat_train_X, train_y.ravel())\n",
    "\n",
    "\n",
    "\n",
    "\n",
    "train_pred = clf.predict(concat_train_X)\n",
    "val_pred = clf.predict(concat_val_X)\n",
    "    \n",
    "train_f1 = f1_score(train_y, train_pred, average='macro')\n",
    "val_f1 = f1_score(val_y, val_pred, average='macro')\n",
    "print(\"Train F1-Score score: {:.3f}\".format(train_f1))\n",
    "print(\"Validation F1-Score score: {:.3f}\".format(val_f1))"
   ]
  },
  {
   "cell_type": "code",
   "execution_count": null,
   "id": "stupid-edinburgh",
   "metadata": {},
   "outputs": [],
   "source": [
    "#Value num = 25 Used\n"
   ]
  },
  {
   "cell_type": "code",
   "execution_count": null,
   "id": "still-monaco",
   "metadata": {},
   "outputs": [],
   "source": [
    "lambda_paras = np.logspace(-5, 1, num=40)    # establish the lambda values to test (grid)\n",
    "\n",
    "# Then search\n",
    "train_performace = list()\n",
    "valid_performace = list()\n",
    "\n",
    "for lambda_para in lambda_paras:\n",
    "    clf = LogisticRegression(random_state=0, C = 1.0/lambda_para ,solver='saga', \n",
    "                         max_iter=1500, \n",
    "                         class_weight='balanced').fit(concat_train_X, train_y.ravel())\n",
    "    \n",
    "    train_pred = clf.predict(concat_train_X)\n",
    "    val_pred = clf.predict(concat_val_X)\n",
    "    \n",
    "    train_f1 = f1_score(train_y, train_pred, average='macro')\n",
    "    val_f1 = f1_score(val_y, val_pred, average='macro')\n",
    "    \n",
    "    train_performace.append(train_f1)\n",
    "    valid_performace.append(val_f1)"
   ]
  },
  {
   "cell_type": "code",
   "execution_count": 137,
   "id": "independent-charter",
   "metadata": {},
   "outputs": [
    {
     "data": {
      "image/png": "[encoded data removed]",
      "text/plain": [
       "<Figure size 432x288 with 1 Axes>"
      ]
     },
     "metadata": {
      "needs_background": "light"
     },
     "output_type": "display_data"
    }
   ],
   "source": [
    "plt.plot([1.0/lambda_para for lambda_para in lambda_paras], \n",
    "         [tp for tp in train_performace], 'r-')\n",
    "plt.plot([1.0/lambda_para for lambda_para in lambda_paras], \n",
    "         [vp for vp in valid_performace], 'b--')\n",
    "plt.xscale(\"log\")\n",
    "plt.ylabel('F1 Score')\n",
    "plt.xlabel('lambda')\n",
    "plt.legend(['Training','Validation'])\n",
    "plt.show()"
   ]
  },
  {
   "cell_type": "code",
   "execution_count": 130,
   "id": "abstract-iceland",
   "metadata": {},
   "outputs": [],
   "source": [
    "C_val = 0.1584893192"
   ]
  },
  {
   "cell_type": "code",
   "execution_count": 131,
   "id": "induced-minority",
   "metadata": {},
   "outputs": [
    {
     "name": "stdout",
     "output_type": "stream",
     "text": [
      "Train F1-Score score: 0.617\n",
      "Validation F1-Score score: 0.623\n"
     ]
    }
   ],
   "source": [
    "from sklearn.linear_model import LogisticRegression\n",
    "clf = LogisticRegression(random_state=0, C = C_val, solver='saga', \n",
    "                         max_iter=1500, \n",
    "                         class_weight='balanced').fit(concat_train_X, train_y.ravel())\n",
    "train_pred = clf.predict(concat_train_X)\n",
    "val_pred = clf.predict(concat_val_X)\n",
    "    \n",
    "train_f1 = f1_score(train_y, train_pred, average='macro')\n",
    "val_f1 = f1_score(val_y, val_pred, average='macro')\n",
    "print(\"Train F1-Score score: {:.3f}\".format(train_f1))\n",
    "print(\"Validation F1-Score score: {:.3f}\".format(val_f1))"
   ]
  },
  {
   "cell_type": "code",
   "execution_count": null,
   "id": "activated-accountability",
   "metadata": {},
   "outputs": [],
   "source": [
    "from sklearn.metrics import classification_report\n",
    "\n",
    "test_pred = clf.predict(test_concat)\n",
    "#train_f1 = f1_score(train_y, test_pred, average='macro')  \n",
    "print(test_concat.shape)\n",
    "\n",
    "print(concat_train_X.shape)\n"
   ]
  },
  {
   "cell_type": "code",
   "execution_count": null,
   "id": "working-carroll",
   "metadata": {},
   "outputs": [],
   "source": [
    "print(test_pred)\n",
    "\n",
    "\n",
    "export_df = pd.DataFrame(test_pred)\n",
    "\n",
    "export_df[\"ID\"] = export_df.index + 1\n",
    "export_df = export_df.rename(columns={0:\"LengthOfStay\"})"
   ]
  },
  {
   "cell_type": "code",
   "execution_count": null,
   "id": "charged-pleasure",
   "metadata": {},
   "outputs": [],
   "source": [
    "export_df.columns"
   ]
  },
  {
   "cell_type": "code",
   "execution_count": null,
   "id": "sealed-slide",
   "metadata": {},
   "outputs": [],
   "source": [
    "export_df = export_df[[\"ID\", \"LengthOfStay\"]]"
   ]
  },
  {
   "cell_type": "code",
   "execution_count": null,
   "id": "material-archive",
   "metadata": {},
   "outputs": [],
   "source": [
    "export_df"
   ]
  },
  {
   "cell_type": "code",
   "execution_count": null,
   "id": "diverse-powder",
   "metadata": {},
   "outputs": [],
   "source": [
    "export_df.to_csv(r's3723189_predictions.csv', index = False, header = True)"
   ]
  },
  {
   "cell_type": "code",
   "execution_count": null,
   "id": "diagnostic-customs",
   "metadata": {},
   "outputs": [],
   "source": []
  }
 ],
 "metadata": {
  "kernelspec": {
   "display_name": "conda_python3",
   "language": "python",
   "name": "conda_python3"
  },
  "language_info": {
   "codemirror_mode": {
    "name": "ipython",
    "version": 3
   },
   "file_extension": ".py",
   "mimetype": "text/x-python",
   "name": "python",
   "nbconvert_exporter": "python",
   "pygments_lexer": "ipython3",
   "version": "3.6.13"
  }
 },
 "nbformat": 4,
 "nbformat_minor": 5
}
